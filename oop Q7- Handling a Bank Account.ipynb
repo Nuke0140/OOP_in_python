{
 "cells": [
  {
   "cell_type": "markdown",
   "id": "e5d26125",
   "metadata": {},
   "source": [
    "## problem statement \n",
    "---\n",
    "- in this challenge we will be extending the previous challenge and implementing methods in the parent class and its correspoding child class \n",
    "---\n",
    "- the initializers for both classes have been defined for you \n",
    "\n",
    "----\n",
    "- Task 1#\n",
    "- In the Account class, implement the getBalance() method that returns balance.\n",
    "-----\n",
    "- Task 2#\n",
    "- In the Account class, implement the deposit(amount) method that adds amount to the balance. It does not return anything.\n",
    "----\n",
    "- Task 3#\n",
    "- In the Account class, implement the withdrawal(amount) method that subtracts the amount from the balance. It does not return anything.\n",
    "---\n",
    "- In the SavingsAccount class, implement an interestAmount() method that returns the interest amount of the current balance. Below is the formula for calculating the interest amount:\n",
    "          "
   ]
  },
  {
   "cell_type": "code",
   "execution_count": 7,
   "id": "7380fab5",
   "metadata": {},
   "outputs": [
    {
     "name": "stdout",
     "output_type": "stream",
     "text": [
      "Initial Balance: 5000\n",
      "Balance after withdrawal: 4000\n",
      "Balance after deposit: 4500\n",
      "Interest on current balance: 450.0\n"
     ]
    }
   ],
   "source": [
    "class Account: #parent class \n",
    "    def __init__(self,title=None,balance=0):\n",
    "        self.title=title\n",
    "        self.balance=balance\n",
    "        \n",
    "    # withDrawal method subtracts the amount from the balance \n",
    "    def withdrawal(self,amount):\n",
    "        self.balance=self.balance - amount\n",
    "    \n",
    "    # deposit methof adds the amount to the balance \n",
    "    def deposit(self,amount):\n",
    "        self.balance=self.balance + amount\n",
    "    \n",
    "    # this method just return the value of balance \n",
    "    def getBalance(self):\n",
    "        return self.balance \n",
    "    \n",
    "class SavingAccount(Account):\n",
    "    def __init__(self,title=None,balance=0,interestRate=0):\n",
    "        super().__init__(title,balance)\n",
    "        self.interestRate=interestRate\n",
    "    \n",
    "    #computes interest amount usig the interest rate \n",
    "    def interestAmount(self):\n",
    "        return(self.balance * self.interestRate/100)\n",
    "\n",
    "\n",
    "obj1 = SavingAccount(\"Steve\", 5000, 10)\n",
    "print(\"Initial Balance:\", obj1.getBalance())\n",
    "obj1.withdrawal(1000)\n",
    "print(\"Balance after withdrawal:\", obj1.getBalance())\n",
    "obj1.deposit(500)\n",
    "print(\"Balance after deposit:\", obj1.getBalance())\n",
    "print(\"Interest on current balance:\", obj1.interestAmount())"
   ]
  },
  {
   "cell_type": "markdown",
   "id": "71e944ae",
   "metadata": {},
   "source": [
    "### explanation \n",
    "----\n",
    "- we have defined the withdrawal(amount) method. It takes a number, amount, as an input parameter and subtracts it from the balance.\n",
    "\n",
    "\n",
    "- we have defined the deposit(amount) method. It takes a number, amount, as an input parameter and adds it to the balance.\n",
    "- e have defined the getBalance() method that returns the value of balance.\n",
    "- We have defined the interestAmount() method that returns the amount of interest depending on the value of the interestRate defined at the time of the creation of the object."
   ]
  },
  {
   "cell_type": "code",
   "execution_count": null,
   "id": "351b2519",
   "metadata": {},
   "outputs": [],
   "source": []
  },
  {
   "cell_type": "code",
   "execution_count": null,
   "id": "95f5d3d6",
   "metadata": {},
   "outputs": [],
   "source": []
  }
 ],
 "metadata": {
  "kernelspec": {
   "display_name": "Python 3 (ipykernel)",
   "language": "python",
   "name": "python3"
  },
  "language_info": {
   "codemirror_mode": {
    "name": "ipython",
    "version": 3
   },
   "file_extension": ".py",
   "mimetype": "text/x-python",
   "name": "python",
   "nbconvert_exporter": "python",
   "pygments_lexer": "ipython3",
   "version": "3.9.7"
  }
 },
 "nbformat": 4,
 "nbformat_minor": 5
}
