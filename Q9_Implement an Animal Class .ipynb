{
 "cells": [
  {
   "cell_type": "code",
   "execution_count": 4,
   "id": "eff31b6f",
   "metadata": {},
   "outputs": [
    {
     "name": "stdout",
     "output_type": "stream",
     "text": [
      "Name: pongo\n",
      "sound:  woof Woof\n",
      "family:  Husky\n",
      "\n",
      "Name: billy\n",
      "sound:  Baa Baa\n",
      "Color:  white\n"
     ]
    }
   ],
   "source": [
    "class Animal:\n",
    "    def __init__(self,name,sound):\n",
    "        self.name=name\n",
    "        self.sound=sound\n",
    "    \n",
    "    def Animal_details(self):\n",
    "        print(\"Name:\",self.name)\n",
    "        print(\"sound: \",self.sound)\n",
    "\n",
    "class Dog(Animal):\n",
    "    def __init__(self,name,sound,family):\n",
    "        super().__init__(name,sound)\n",
    "        self.family=family\n",
    "        \n",
    "    def Animal_details(self):\n",
    "        super().Animal_details()\n",
    "        print(\"family: \",self.family)\n",
    "\n",
    "\n",
    "class Sheep(Animal):\n",
    "    def __init__(self,name,sound,color):\n",
    "        super().__init__(name,sound)\n",
    "        self.color=color\n",
    "    \n",
    "    def Animal_details(self):\n",
    "        super().Animal_details()\n",
    "        print(\"Color: \",self.color)\n",
    "        \n",
    "d = Dog(\"pongo\",\"woof Woof\",\"Husky\")\n",
    "d.Animal_details()\n",
    "print(\"\")\n",
    "s = Sheep(\"billy\",\"Baa Baa\",\"white\")\n",
    "s.Animal_details()\n",
    "        "
   ]
  },
  {
   "cell_type": "code",
   "execution_count": null,
   "id": "33814d0d",
   "metadata": {},
   "outputs": [],
   "source": []
  },
  {
   "cell_type": "code",
   "execution_count": null,
   "id": "c7ff193c",
   "metadata": {},
   "outputs": [],
   "source": []
  },
  {
   "cell_type": "code",
   "execution_count": null,
   "id": "b2c476fe",
   "metadata": {},
   "outputs": [],
   "source": []
  }
 ],
 "metadata": {
  "kernelspec": {
   "display_name": "Python 3 (ipykernel)",
   "language": "python",
   "name": "python3"
  },
  "language_info": {
   "codemirror_mode": {
    "name": "ipython",
    "version": 3
   },
   "file_extension": ".py",
   "mimetype": "text/x-python",
   "name": "python",
   "nbconvert_exporter": "python",
   "pygments_lexer": "ipython3",
   "version": "3.9.7"
  }
 },
 "nbformat": 4,
 "nbformat_minor": 5
}
