{
 "cells": [
  {
   "cell_type": "markdown",
   "id": "06864fef",
   "metadata": {},
   "source": [
    "## problem statment \n",
    "----\n",
    "- implement the basic structure of parent class account and child class SavingsAccounts \n",
    "\n",
    "-----\n",
    "##### task 1 \n",
    "- implement properties as instance variabe and set them to None or 0 \n",
    "- account has the follwing properties \n",
    "- __title__\n",
    "- __balance__\n",
    "- SvaingsAccount has the following properties:\n",
    "- __interestRate__\n",
    "----\n",
    "###### Task\n",
    "---\n",
    "- Create an initializer for Account class. The order of parameters should be the following, where Mark is the title, and 5000 is the account balance:\n",
    "----\n",
    "###### Task 3\n",
    "----\n",
    "- Implement properties as instance variables, and set them to None or 0.\n",
    "\n",
    "- Create an initializer for the SavingsAccount class using the initializer of the Account class in the order below:"
   ]
  },
  {
   "cell_type": "code",
   "execution_count": 4,
   "id": "78ce3793",
   "metadata": {},
   "outputs": [],
   "source": [
    "class Account:\n",
    "    def __init__(self, title=None, balance=0):\n",
    "        self.title=title\n",
    "        self.balance=balance\n",
    "        \n",
    "class SavingAccount(Account):\n",
    "    def __init__(self,title =None,balance=0, interestRate=0):\n",
    "        super().__init__(title,balance)\n",
    "        self.interestRate=interestRate"
   ]
  },
  {
   "cell_type": "markdown",
   "id": "f5a3c779",
   "metadata": {},
   "source": [
    "### explaintion \n",
    "----\n",
    "- we have defined two instance variables, title and balance, in the Account class. We have set them to None and 0 respectively.\n",
    "- we have defined SavingsAccount as a child class of Account.\n",
    "\n",
    "- we have defined the initializer for the SavingsAccount class and called the parent class initializer using super().\n",
    "-  We have defined one instance variable, interestRate, in the SavingsAccount class and set it to 0\n",
    "\n",
    "-  in the initializer."
   ]
  },
  {
   "cell_type": "code",
   "execution_count": null,
   "id": "c69dd568",
   "metadata": {},
   "outputs": [],
   "source": []
  },
  {
   "cell_type": "code",
   "execution_count": null,
   "id": "83e7cc84",
   "metadata": {},
   "outputs": [],
   "source": []
  }
 ],
 "metadata": {
  "kernelspec": {
   "display_name": "Python 3 (ipykernel)",
   "language": "python",
   "name": "python3"
  },
  "language_info": {
   "codemirror_mode": {
    "name": "ipython",
    "version": 3
   },
   "file_extension": ".py",
   "mimetype": "text/x-python",
   "name": "python",
   "nbconvert_exporter": "python",
   "pygments_lexer": "ipython3",
   "version": "3.9.7"
  }
 },
 "nbformat": 4,
 "nbformat_minor": 5
}
