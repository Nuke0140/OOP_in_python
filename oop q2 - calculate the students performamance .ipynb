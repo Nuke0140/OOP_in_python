{
 "cells": [
  {
   "cell_type": "markdown",
   "id": "a3f40451",
   "metadata": {},
   "source": [
    "## problem statement \n",
    "\n",
    "---\n",
    "\n",
    "- Implement a class - Student - that has four properties and two methods. All these attributes (properties and methods) should be public. This problem can be broken down into three tasks."
   ]
  },
  {
   "cell_type": "code",
   "execution_count": 17,
   "id": "598bc664",
   "metadata": {},
   "outputs": [],
   "source": [
    "class Student:\n",
    "    def __init__(self,name,phy,chem,bio):\n",
    "        self.name=name\n",
    "        self.phy=phy\n",
    "        self.chem=chem\n",
    "        self.bio=bio\n",
    "    def totalObtained(self):\n",
    "        total = self.phy + self.chem +self.bio\n",
    "        return total\n",
    "    \n",
    "    def percentage(self):\n",
    "        percentage=(self.totalObtained()/300)*100\n",
    "        return percentage\n",
    "\n",
    "        "
   ]
  },
  {
   "cell_type": "code",
   "execution_count": 19,
   "id": "f4788d98",
   "metadata": {},
   "outputs": [
    {
     "data": {
      "text/plain": [
       "185"
      ]
     },
     "execution_count": 19,
     "metadata": {},
     "output_type": "execute_result"
    }
   ],
   "source": [
    "student=Student(45,70,35,80)\n",
    "student.totalObtained()\n"
   ]
  },
  {
   "cell_type": "code",
   "execution_count": 20,
   "id": "87edb3d7",
   "metadata": {},
   "outputs": [
    {
     "data": {
      "text/plain": [
       "61.66666666666667"
      ]
     },
     "execution_count": 20,
     "metadata": {},
     "output_type": "execute_result"
    }
   ],
   "source": [
    "student.percentage()"
   ]
  },
  {
   "cell_type": "markdown",
   "id": "c5691fdc",
   "metadata": {},
   "source": [
    "- In line 3 - 6, we have initialized name, phy, chem, and bio as public properties in the class initializer.\n",
    "\n",
    "- In line 9, we have then defined the totalObtained() method. In this method, we added individual marks of all the subjects and returned the sum.\n",
    "\n",
    "- At last in line 12, we defined percentage(). In this method, we called totalObtained() and used its value to calculate the percentage. 300\n",
    "- 300\n",
    "-  is the total number of marks for a student."
   ]
  },
  {
   "cell_type": "code",
   "execution_count": null,
   "id": "1a598d03",
   "metadata": {},
   "outputs": [],
   "source": []
  }
 ],
 "metadata": {
  "kernelspec": {
   "display_name": "Python 3 (ipykernel)",
   "language": "python",
   "name": "python3"
  },
  "language_info": {
   "codemirror_mode": {
    "name": "ipython",
    "version": 3
   },
   "file_extension": ".py",
   "mimetype": "text/x-python",
   "name": "python",
   "nbconvert_exporter": "python",
   "pygments_lexer": "ipython3",
   "version": "3.9.7"
  }
 },
 "nbformat": 4,
 "nbformat_minor": 5
}
