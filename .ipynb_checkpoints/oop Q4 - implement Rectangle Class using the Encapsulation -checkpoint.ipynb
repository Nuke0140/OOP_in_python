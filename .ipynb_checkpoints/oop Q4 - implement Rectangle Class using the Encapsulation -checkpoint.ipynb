{
 "cells": [
  {
   "cell_type": "markdown",
   "id": "38926753",
   "metadata": {},
   "source": [
    "### problem statment\n",
    "---\n",
    "- implement the class by completing the task below \n",
    "\n",
    "---\n",
    "- Task 1#\n",
    "- Implement a constructor to initialize the values of two private properties: length and width.\n",
    "\n",
    "- Task 2#\n",
    "- Implement a method, area(), in the Rectangle class that returns the product of length and width. See the formula below:\n",
    "\n",
    "- Area=length×width\n",
    "\n",
    "--- \n",
    "- Implement a method, perimeter(), in the Rectangle class that returns two times the sum of length and width. See the formula below:\n",
    "\n",
    "\n",
    "- Perimeter=2×(length+width)\n",
    "\n"
   ]
  },
  {
   "cell_type": "code",
   "execution_count": 1,
   "id": "efff3e3f",
   "metadata": {},
   "outputs": [
    {
     "name": "stdout",
     "output_type": "stream",
     "text": [
      "Area is 20\n",
      "Perimeter is 18\n"
     ]
    }
   ],
   "source": [
    "class Rectangle:\n",
    "    def __init__(self, length, width):\n",
    "        self.__length = length\n",
    "        self.__width = width\n",
    "\n",
    "    def area(self):\n",
    "        return (self.__length * self.__width)\n",
    "\n",
    "    def perimeter(self):\n",
    "        return (2 * (self.__length + self.__width))\n",
    "\n",
    "\n",
    "obj1 = Rectangle(4, 5)\n",
    "print(\"Area is\", obj1.area())\n",
    "print(\"Perimeter is\", obj1.perimeter())\n"
   ]
  },
  {
   "cell_type": "markdown",
   "id": "d271c07a",
   "metadata": {},
   "source": [
    "- Explanation#\n",
    "In lines 3 - 4, we defined the initializer for the class and declared private properties – __length and __width – in it.\n",
    "\n",
    "In line 7, we defined the method area() and returned the product of the two properties – __length and __width – in it.\n",
    "\n",
    "In line 10, we defined the method perimeter() and returned twice the sum of the two properties – __length and __width – in it.\n",
    "\n",
    "In the main function at line 13, we have defined a Rectangle class object, obj1, with properties 4\n",
    "4\n",
    " and 5\n",
    "5\n",
    ".\n",
    "\n",
    "In lines 14 - 15, we call the methods area() and perimeter() and print their values.\n",
    "\n"
   ]
  },
  {
   "cell_type": "code",
   "execution_count": null,
   "id": "bfd8070a",
   "metadata": {},
   "outputs": [],
   "source": []
  }
 ],
 "metadata": {
  "kernelspec": {
   "display_name": "Python 3 (ipykernel)",
   "language": "python",
   "name": "python3"
  },
  "language_info": {
   "codemirror_mode": {
    "name": "ipython",
    "version": 3
   },
   "file_extension": ".py",
   "mimetype": "text/x-python",
   "name": "python",
   "nbconvert_exporter": "python",
   "pygments_lexer": "ipython3",
   "version": "3.9.7"
  }
 },
 "nbformat": 4,
 "nbformat_minor": 5
}
