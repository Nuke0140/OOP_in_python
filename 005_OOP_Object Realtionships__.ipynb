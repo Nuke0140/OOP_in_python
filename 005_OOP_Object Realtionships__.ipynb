{
 "cells": [
  {
   "cell_type": "markdown",
   "id": "83e4a7e4",
   "metadata": {},
   "source": [
    "## Aggregation \n",
    "----\n",
    "- Aggregation follows the has-a model. this  create - child realtionship between two classes with onr class owning the onejct of another\n",
    "---\n",
    "- in aggregation the lifetime of the owned obejct does not depends on the lifetime of the owner \n",
    "---\n",
    "- - -\n",
    "- The owner object could get deleted, but the owned object can continue to exist in the program. In aggregation, the parent only contains a reference to the child, which removes the child’s dependency."
   ]
  },
  {
   "cell_type": "code",
   "execution_count": 1,
   "id": "86a3b29f",
   "metadata": {},
   "outputs": [
    {
     "name": "stdout",
     "output_type": "stream",
     "text": [
      "Person Name: Joe\n",
      "Country Name: Wales\n",
      "Country Population 1500\n",
      "\n",
      "Country Name: Wales\n",
      "Country Population 1500\n"
     ]
    }
   ],
   "source": [
    "class Country:\n",
    "    def __init__(self, name=None, population=0):\n",
    "        self.name = name\n",
    "        self.population = population\n",
    "\n",
    "    def printDetails(self):\n",
    "        print(\"Country Name:\", self.name)\n",
    "        print(\"Country Population\", self.population)\n",
    "\n",
    "\n",
    "class Person:\n",
    "    def __init__(self, name, country):\n",
    "        self.name = name\n",
    "        self.country = country\n",
    "\n",
    "    def printDetails(self):\n",
    "        print(\"Person Name:\", self.name)\n",
    "        self.country.printDetails()\n",
    "\n",
    "\n",
    "c = Country(\"Wales\", 1500)\n",
    "p = Person(\"Joe\", c)\n",
    "p.printDetails()\n",
    "\n",
    "# deletes the object p\n",
    "del p\n",
    "print(\"\")\n",
    "c.printDetails()\n"
   ]
  },
  {
   "cell_type": "code",
   "execution_count": null,
   "id": "e1573d6e",
   "metadata": {},
   "outputs": [],
   "source": []
  },
  {
   "cell_type": "code",
   "execution_count": null,
   "id": "ce6c06df",
   "metadata": {},
   "outputs": [],
   "source": []
  },
  {
   "cell_type": "code",
   "execution_count": null,
   "id": "dd32e14f",
   "metadata": {},
   "outputs": [],
   "source": []
  },
  {
   "cell_type": "code",
   "execution_count": null,
   "id": "7b3e0244",
   "metadata": {},
   "outputs": [],
   "source": []
  },
  {
   "cell_type": "code",
   "execution_count": null,
   "id": "720a9476",
   "metadata": {},
   "outputs": [],
   "source": []
  },
  {
   "cell_type": "code",
   "execution_count": null,
   "id": "edce4006",
   "metadata": {},
   "outputs": [],
   "source": []
  },
  {
   "cell_type": "code",
   "execution_count": null,
   "id": "5fd3d1af",
   "metadata": {},
   "outputs": [],
   "source": []
  },
  {
   "cell_type": "code",
   "execution_count": null,
   "id": "eb613eb9",
   "metadata": {},
   "outputs": [],
   "source": []
  },
  {
   "cell_type": "code",
   "execution_count": null,
   "id": "f3410685",
   "metadata": {},
   "outputs": [],
   "source": []
  }
 ],
 "metadata": {
  "kernelspec": {
   "display_name": "Python 3 (ipykernel)",
   "language": "python",
   "name": "python3"
  },
  "language_info": {
   "codemirror_mode": {
    "name": "ipython",
    "version": 3
   },
   "file_extension": ".py",
   "mimetype": "text/x-python",
   "name": "python",
   "nbconvert_exporter": "python",
   "pygments_lexer": "ipython3",
   "version": "3.9.7"
  }
 },
 "nbformat": 4,
 "nbformat_minor": 5
}
