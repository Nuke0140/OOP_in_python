{
 "cells": [
  {
   "cell_type": "markdown",
   "id": "e9638be1",
   "metadata": {},
   "source": [
    "## what is inheritance \n",
    "---\n",
    "- Inheritance provides a way to create a new class from an existing class. The new class is a specialized version of the existing class such that it inherits all the non-private fields (variables) and methods of the existing class. The existing class is used as a starting point or as a base to create the new class.\n",
    "----\n",
    "----\n",
    "### the terminologies \n",
    "---\n",
    "- Parent Class (Super Class or Base Class): This class allows the reuse of its public properties in another class.\n",
    "- Child Class (Sub Class or Derived Class): This class inherits or extends the superclass\n",
    "\n",
    "-----\n",
    "- example \n"
   ]
  },
  {
   "cell_type": "code",
   "execution_count": 3,
   "id": "6cb6c7df",
   "metadata": {},
   "outputs": [
    {
     "name": "stdout",
     "output_type": "stream",
     "text": [
      "manufacture:  Suzuki\n",
      "color:  grey\n",
      "model:  2015\n",
      "Doors: 4\n"
     ]
    }
   ],
   "source": [
    "class Vehicle:\n",
    "    def __init__(self,make,color,model):\n",
    "        self.make=make\n",
    "        self.color=color\n",
    "        self.model=model\n",
    "    def printDetails(self):\n",
    "        print(\"manufacture: \", self.make)\n",
    "        print(\"color: \",self.color)\n",
    "        print(\"model: \",self.model)\n",
    "    \n",
    "\n",
    "class Car(Vehicle):\n",
    "    def __init__(self,make,color,model,doors):\n",
    "        # calling the constructore from parent class \n",
    "        Vehicle.__init__(self,make,color,model)\n",
    "        self.doors=doors\n",
    "        \n",
    "    def printCarDetails(self):\n",
    "        self.printDetails()\n",
    "        print(\"Doors:\",self.doors)\n",
    "    \n",
    "\n",
    "obj1=Car(\"Suzuki\",\"grey\",\"2015\",4)\n",
    "obj1.printCarDetails()\n",
    "    "
   ]
  },
  {
   "cell_type": "markdown",
   "id": "f68845cc",
   "metadata": {},
   "source": [
    "---\n",
    "- we have define a parent class vehicle in child class car \n",
    "- car inherits all the properties anf methods of the vechicle class and can access and modify them "
   ]
  },
  {
   "cell_type": "markdown",
   "id": "dfa4e458",
   "metadata": {},
   "source": [
    "### The Super Function \n",
    "----\n",
    "##### what is super() function \n",
    "\n",
    "----\n",
    "- The use of super() comes into play when we implement inheritance. It is used in a child class to refer to the parent class without explicitly naming it. It makes the code more manageable, and there is no need to know the name of the parent class to access its attributes.\n",
    "\n",
    "\n"
   ]
  },
  {
   "cell_type": "code",
   "execution_count": 7,
   "id": "b2447459",
   "metadata": {},
   "outputs": [
    {
     "name": "stdout",
     "output_type": "stream",
     "text": [
      "Fuel cap from the Vehicle Class: 90\n",
      "Fuel cap from the Car Class: 50\n"
     ]
    }
   ],
   "source": [
    "class Vehicle:  # defining the parent class\n",
    "    fuelCap = 90\n",
    "\n",
    "\n",
    "class Car(Vehicle):  # defining the child class\n",
    "    fuelCap = 50\n",
    "\n",
    "    def display(self):\n",
    "        # accessing fuelCap from the Vehicle class using super()\n",
    "        print(\"Fuel cap from the Vehicle Class:\", super().fuelCap)\n",
    "\n",
    "        # accessing fuelCap from the Car class using self\n",
    "        print(\"Fuel cap from the Car Class:\", self.fuelCap)\n",
    "\n",
    "\n",
    "obj1 = Car()  # creating a car object\n",
    "obj1.display()  # calling the Car class method display()\n"
   ]
  },
  {
   "cell_type": "code",
   "execution_count": 8,
   "id": "be09b5f6",
   "metadata": {},
   "outputs": [
    {
     "name": "stdout",
     "output_type": "stream",
     "text": [
      "I am from the Vehicle class\n",
      "I am from the Car Class\n"
     ]
    }
   ],
   "source": [
    "# calling the parent class methods \n",
    "\n",
    "class Vehicle: #defining the parent class \n",
    "    def display(self): #defining display method in the class \n",
    "        print(\"I am from the Vehicle class\")\n",
    "        \n",
    "class Car(Vehicle): # defining the chile class \n",
    "    #defining display method in the child class \n",
    "    def display(self):\n",
    "        super().display()\n",
    "        print(\"I am from the Car Class\")\n",
    "    \n",
    "obj1=Car()# creating a car object \n",
    "obj1.display()#Calling the car class method display()\n"
   ]
  },
  {
   "cell_type": "code",
   "execution_count": 12,
   "id": "bbcb992d",
   "metadata": {},
   "outputs": [
    {
     "name": "stdout",
     "output_type": "stream",
     "text": [
      "1\n",
      "2\n",
      "3\n"
     ]
    }
   ],
   "source": [
    "# using with initializers \n",
    "class ParentClass():\n",
    "    def __init__(self,a,b):\n",
    "        self.a = a\n",
    "        self.b = b\n",
    "    \n",
    "class ChildClass(ParentClass):\n",
    "    def __init__(self,a,b,c):\n",
    "        super().__init__(a,b)\n",
    "        self.c=c\n",
    "\n",
    "\n",
    "obj=ChildClass(1,2,3)\n",
    "print(obj.a)\n",
    "print(obj.b)\n",
    "print(obj.c)"
   ]
  },
  {
   "cell_type": "code",
   "execution_count": 13,
   "id": "7d042078",
   "metadata": {},
   "outputs": [
    {
     "name": "stdout",
     "output_type": "stream",
     "text": [
      "1\n",
      "2\n",
      "3\n"
     ]
    }
   ],
   "source": [
    "class ParentClass():\n",
    "    def __init__(self, a, b):\n",
    "        self.a = a\n",
    "        self.b = b\n",
    "\n",
    "\n",
    "class ChildClass(ParentClass):\n",
    "    def __init__(self, a, b, c):\n",
    "        self.c = c\n",
    "        super().__init__(a, b)\n",
    "\n",
    "\n",
    "obj = ChildClass(1, 2, 3)\n",
    "print(obj.a)\n",
    "print(obj.b)\n",
    "print(obj.c)\n"
   ]
  },
  {
   "cell_type": "code",
   "execution_count": 18,
   "id": "54aca572",
   "metadata": {},
   "outputs": [
    {
     "name": "stdout",
     "output_type": "stream",
     "text": [
      "Manufacturer: Suzuki\n",
      "Color: Grey\n",
      "Model: 2015\n",
      "Door: 4\n"
     ]
    }
   ],
   "source": [
    "class Vehicle:\n",
    "    def __init__(self, make, color, model):\n",
    "        self.make = make\n",
    "        self.color = color\n",
    "        self.model = model\n",
    "\n",
    "    def printDetails(self):\n",
    "        print(\"Manufacturer:\", self.make)\n",
    "        print(\"Color:\", self.color)\n",
    "        print(\"Model:\", self.model)\n",
    "\n",
    "\n",
    "class Car(Vehicle):\n",
    "    def __init__(self, make, color, model, doors):\n",
    "        super().__init__(make, color, model)\n",
    "        self.doors = doors\n",
    "\n",
    "    def printCarDetails(self):\n",
    "        self.printDetails()\n",
    "        print(\"Door:\", self.doors)\n",
    "\n",
    "\n",
    "obj1 = Car(\"Suzuki\", \"Grey\", \"2015\", 4)\n",
    "obj1.printCarDetails()\n"
   ]
  },
  {
   "cell_type": "markdown",
   "id": "1b82afd6",
   "metadata": {},
   "source": [
    "### Types of Inheritance \n",
    "---\n",
    "- single Inheritance \n",
    "- multi-level inheritace \n",
    "- hierachical inheritance \n",
    "- multiple inheritance \n",
    "- hybrid inheritance \n",
    "\n",
    "---\n",
    "### single inheritance \n",
    "---\n",
    "- In single inheritance, there is only a single class extending from another class. We can take the example of the Vehicle class as the parent class, and the Car class as the child class. Let’s implement these classes below:\n"
   ]
  },
  {
   "cell_type": "code",
   "execution_count": 20,
   "id": "b223d44b",
   "metadata": {},
   "outputs": [
    {
     "name": "stdout",
     "output_type": "stream",
     "text": [
      "Top speed is set to 220\n",
      "trunk is now open\n"
     ]
    }
   ],
   "source": [
    "class Vehicle: # parent class \n",
    "    def setTopSpeed(self,speed): #defining the set \n",
    "        self.topSpeed = speed\n",
    "        print(\"Top speed is set to\",self.topSpeed)\n",
    "    \n",
    "class Car(Vehicle): # child class \n",
    "    def openTrunk(self):\n",
    "        print(\"trunk is now open\")\n",
    "    \n",
    "corolla = Car()# creating an object of the car class \n",
    "corolla.setTopSpeed(220)# accessing methods from the parent class \n",
    "corolla.openTrunk() #accessing method from its own class \n"
   ]
  },
  {
   "cell_type": "markdown",
   "id": "bcf15e17",
   "metadata": {},
   "source": [
    "## Multi-level inheritance \n",
    "----\n",
    "- When a class is derived from a class which itself is derived from another class, it is called multilevel inheritance. We can extend the classes to as many levels as we want to."
   ]
  },
  {
   "cell_type": "code",
   "execution_count": 21,
   "id": "a8044da6",
   "metadata": {},
   "outputs": [
    {
     "name": "stdout",
     "output_type": "stream",
     "text": [
      "Top speed is set to 220\n",
      "Trunk is now open.\n",
      "Hybrid mode is now switched on.\n"
     ]
    }
   ],
   "source": [
    "class Vehicle:  # parent class\n",
    "    def setTopSpeed(self, speed):  # defining the set\n",
    "        self.topSpeed = speed\n",
    "        print(\"Top speed is set to\", self.topSpeed)\n",
    "\n",
    "\n",
    "class Car(Vehicle):  # child class of Vehicle\n",
    "    def openTrunk(self):\n",
    "        print(\"Trunk is now open.\")\n",
    "\n",
    "\n",
    "class Hybrid(Car):  # child class of Car\n",
    "    def turnOnHybrid(self):\n",
    "        print(\"Hybrid mode is now switched on.\")\n",
    "\n",
    "\n",
    "priusPrime = Hybrid()  # creating an object of the Hybrid class\n",
    "priusPrime.setTopSpeed(220)  # accessing methods from the parent class\n",
    "priusPrime.openTrunk()  # accessing method from the parent class\n",
    "priusPrime.turnOnHybrid()  # accessing method from the child class"
   ]
  },
  {
   "cell_type": "markdown",
   "id": "bc4090f8",
   "metadata": {},
   "source": [
    "## hierachical Inheritance \n",
    "----\n",
    "- In hierarchical inheritance, more than one class extends, as per the requirement of the design, from the same base class. The common attributes of these child classes are implemented inside the base class.\n"
   ]
  },
  {
   "cell_type": "code",
   "execution_count": 22,
   "id": "c145ed91",
   "metadata": {},
   "outputs": [
    {
     "name": "stdout",
     "output_type": "stream",
     "text": [
      "Top speed is set to 220\n",
      "Top speed is set to 180\n"
     ]
    }
   ],
   "source": [
    "class Vehicle:  # parent class\n",
    "    def setTopSpeed(self, speed):  # defining the set\n",
    "        self.topSpeed = speed\n",
    "        print(\"Top speed is set to\", self.topSpeed)\n",
    "\n",
    "\n",
    "class Car(Vehicle):  # child class of Vehicle\n",
    "    pass\n",
    "\n",
    "\n",
    "class Truck(Vehicle):  # child class of Vehicle\n",
    "    pass\n",
    "\n",
    "\n",
    "corolla = Car()  # creating an object of the Car class\n",
    "corolla.setTopSpeed(220)  # accessing methods from the parent class\n",
    "\n",
    "volvo = Truck()  # creating an object of the Truck class\n",
    "volvo.setTopSpeed(180)  # accessing methods from the parent class\n"
   ]
  },
  {
   "cell_type": "markdown",
   "id": "fe2f4162",
   "metadata": {},
   "source": [
    "## Multiple inheritace \n",
    "----\n",
    "-  When a class is derived from more than one base class, i.e., when a class has more than one immediate parent class, it is called multiple inheritance."
   ]
  },
  {
   "cell_type": "code",
   "execution_count": 23,
   "id": "2256d47d",
   "metadata": {},
   "outputs": [
    {
     "name": "stdout",
     "output_type": "stream",
     "text": [
      "Tank Capacity: 20 Litres\n",
      "Charge Capacity: 250 W\n"
     ]
    }
   ],
   "source": [
    "class CombustionEngine():  \n",
    "    def setTankCapacity(self, tankCapacity):\n",
    "        self.tankCapacity = tankCapacity\n",
    "\n",
    "\n",
    "class ElectricEngine():  \n",
    "    def setChargeCapacity(self, chargeCapacity):\n",
    "        self.chargeCapacity = chargeCapacity\n",
    "\n",
    "# Child class inherited from CombustionEngine and ElectricEngine\n",
    "class HybridEngine(CombustionEngine, ElectricEngine):\n",
    "    def printDetails(self):\n",
    "        print(\"Tank Capacity:\", self.tankCapacity)\n",
    "        print(\"Charge Capacity:\", self.chargeCapacity)\n",
    "\n",
    "car = HybridEngine()\n",
    "car.setChargeCapacity(\"250 W\")\n",
    "car.setTankCapacity(\"20 Litres\")\n",
    "car.printDetails()"
   ]
  },
  {
   "cell_type": "markdown",
   "id": "8738056b",
   "metadata": {},
   "source": [
    "## hybrid Inheritance \n",
    "---\n",
    "\n",
    "- A type of inheritance which is a combination of Multiple and Multi-level inheritance is called hybrid inheritance.\n",
    "\n"
   ]
  },
  {
   "cell_type": "code",
   "execution_count": 24,
   "id": "c12a83e1",
   "metadata": {},
   "outputs": [
    {
     "name": "stdout",
     "output_type": "stream",
     "text": [
      "Power: 2000 CC\n",
      "Tank Capacity: 20 Litres\n",
      "Charge Capacity: 250 W\n"
     ]
    }
   ],
   "source": [
    "class Engine:  # Parent class\n",
    "    def setPower(self, power):\n",
    "        self.power = power\n",
    "\n",
    "\n",
    "class CombustionEngine(Engine):  # Child class inherited from Engine\n",
    "    def setTankCapacity(self, tankCapacity):\n",
    "        self.tankCapacity = tankCapacity\n",
    "\n",
    "\n",
    "class ElectricEngine(Engine):  # Child class inherited from Engine\n",
    "    def setChargeCapacity(self, chargeCapacity):\n",
    "        self.chargeCapacity = chargeCapacity\n",
    "\n",
    "# Child class inherited from CombustionEngine and ElectricEngine\n",
    "\n",
    "\n",
    "class HybridEngine(CombustionEngine, ElectricEngine):\n",
    "    def printDetails(self):\n",
    "        print(\"Power:\", self.power)\n",
    "        print(\"Tank Capacity:\", self.tankCapacity)\n",
    "        print(\"Charge Capacity:\", self.chargeCapacity)\n",
    "\n",
    "\n",
    "car = HybridEngine()\n",
    "car.setPower(\"2000 CC\")\n",
    "car.setChargeCapacity(\"250 W\")\n",
    "car.setTankCapacity(\"20 Litres\")\n",
    "car.printDetails()\n"
   ]
  },
  {
   "cell_type": "markdown",
   "id": "69aea021",
   "metadata": {},
   "source": [
    "### Advantages of Iheritance \n",
    "---\n",
    "#### Reusbility \n",
    "- Inheritance makes the code reusable. Consider that you are up for designing a banking system using classes. Your model might have these:\n",
    "\n",
    "- A parent class: BankAccount\n",
    "- A child class: SavingsAccount\n",
    "- Another child class: CheckingAccount\n",
    "\n",
    "- - in above example you dont need to duolicate the code for the deposit() and withdraw() methods insode the child classses namely SavingAccounts and cheackingAccount in this way you can avoid the duplication of the code \n",
    "\n",
    "\n",
    "### Code modification  \n",
    "----\n",
    "- suppose you put the same code in different classes but what happends when you  have to amke changes to a function add in serveral places?? there is high likehood that you will forget some places and bugs will be introduced you can avoid this ith inheritance , which will ensure that all changes are localized and inconsistencies are avoided \n",
    "\n",
    "### Extensibility \n",
    "----\n",
    "- using inheritance one can exted the class as per the requirments of the derived class it provideds an easy way to upgraded or enhance specific parts of products wihtout changing the core attributes an existing class can act as base from which a new class with upgraded featues can be derived \n",
    "\n",
    "----\n",
    "### data hiding \n",
    "----\n",
    " - the base calss can keep some data private so that the derived class cannot alter it this concept is called ecvapsulation ad it has already been discussed in the previous chapter \n",
    " "
   ]
  },
  {
   "cell_type": "code",
   "execution_count": null,
   "id": "709c6722",
   "metadata": {},
   "outputs": [],
   "source": []
  },
  {
   "cell_type": "code",
   "execution_count": null,
   "id": "b9136428",
   "metadata": {},
   "outputs": [],
   "source": []
  },
  {
   "cell_type": "code",
   "execution_count": null,
   "id": "58da5d17",
   "metadata": {},
   "outputs": [],
   "source": []
  },
  {
   "cell_type": "code",
   "execution_count": null,
   "id": "ecaf3147",
   "metadata": {},
   "outputs": [],
   "source": []
  },
  {
   "cell_type": "code",
   "execution_count": null,
   "id": "e71d12a9",
   "metadata": {},
   "outputs": [],
   "source": []
  }
 ],
 "metadata": {
  "kernelspec": {
   "display_name": "Python 3 (ipykernel)",
   "language": "python",
   "name": "python3"
  },
  "language_info": {
   "codemirror_mode": {
    "name": "ipython",
    "version": 3
   },
   "file_extension": ".py",
   "mimetype": "text/x-python",
   "name": "python",
   "nbconvert_exporter": "python",
   "pygments_lexer": "ipython3",
   "version": "3.9.7"
  }
 },
 "nbformat": 4,
 "nbformat_minor": 5
}
