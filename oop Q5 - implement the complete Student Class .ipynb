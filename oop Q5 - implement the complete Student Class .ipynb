{
 "cells": [
  {
   "cell_type": "markdown",
   "id": "7f582092",
   "metadata": {},
   "source": [
    "#### problem statement \n",
    "---\n",
    "- ___task 1__\n",
    "- implement the follwing properties as private :\n",
    "- name \n",
    "- rollnumber \n"
   ]
  },
  {
   "cell_type": "code",
   "execution_count": 1,
   "id": "b14ccee9",
   "metadata": {},
   "outputs": [
    {
     "name": "stdout",
     "output_type": "stream",
     "text": [
      "Name: Alex\n",
      "Roll Number: 3789\n"
     ]
    }
   ],
   "source": [
    "class Student:\n",
    "    __name = None\n",
    "    __rollNumber = None\n",
    "    \n",
    "    def setName(self, name):\n",
    "        self.__name = name\n",
    "\n",
    "    def getName(self):\n",
    "        return self.__name\n",
    "\n",
    "    def setRollNumber(self, rollNumber):\n",
    "        self.__rollNumber = rollNumber\n",
    "\n",
    "    def getRollNumber(self):\n",
    "        return self.__rollNumber\n",
    "\n",
    "\n",
    "demo1 = Student()\n",
    "demo1.setName(\"Alex\")\n",
    "print(\"Name:\", demo1.getName())\n",
    "demo1.setRollNumber(3789)\n",
    "print(\"Roll Number:\", demo1.getRollNumber())\n"
   ]
  },
  {
   "cell_type": "code",
   "execution_count": null,
   "id": "16bd1df9",
   "metadata": {},
   "outputs": [],
   "source": []
  },
  {
   "cell_type": "code",
   "execution_count": null,
   "id": "903d86ac",
   "metadata": {},
   "outputs": [],
   "source": []
  },
  {
   "cell_type": "code",
   "execution_count": null,
   "id": "8455010c",
   "metadata": {},
   "outputs": [],
   "source": []
  }
 ],
 "metadata": {
  "kernelspec": {
   "display_name": "Python 3 (ipykernel)",
   "language": "python",
   "name": "python3"
  },
  "language_info": {
   "codemirror_mode": {
    "name": "ipython",
    "version": 3
   },
   "file_extension": ".py",
   "mimetype": "text/x-python",
   "name": "python",
   "nbconvert_exporter": "python",
   "pygments_lexer": "ipython3",
   "version": "3.9.7"
  }
 },
 "nbformat": 4,
 "nbformat_minor": 5
}
