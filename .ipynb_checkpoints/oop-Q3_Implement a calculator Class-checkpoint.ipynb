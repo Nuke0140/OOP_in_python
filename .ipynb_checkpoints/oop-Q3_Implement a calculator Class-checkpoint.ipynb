{
 "cells": [
  {
   "cell_type": "markdown",
   "id": "c59ed7a9",
   "metadata": {},
   "source": [
    "### problem statement \n",
    "---\n",
    "- write python class called calculator by completing the task below \n",
    "---\n",
    "- __initilizer__\n",
    "- implement an initializer to initialize the values of num1 and num2 \n"
   ]
  },
  {
   "cell_type": "code",
   "execution_count": 9,
   "id": "a9c33d5e",
   "metadata": {},
   "outputs": [],
   "source": [
    "class Calculator:\n",
    "    def __init__(self,num1,num2):\n",
    "        self.num1 = num1\n",
    "        self.num2 = num2 \n",
    "    def add(self):\n",
    "        return(self.num1 + self.num2)\n",
    "    \n",
    "    def subtract(self):\n",
    "        return (self.num1 - self.num2)\n",
    "    \n",
    "    def multiply(self):\n",
    "        \n",
    "        return (self.num1 * self.num2)\n",
    "    \n",
    "    def divide(self):\n",
    "        return (self.num1 / self.num2)\n",
    "    \n",
    "    "
   ]
  },
  {
   "cell_type": "code",
   "execution_count": 10,
   "id": "38c39eeb",
   "metadata": {},
   "outputs": [],
   "source": [
    "Num = Calculator( 14,45)\n"
   ]
  },
  {
   "cell_type": "code",
   "execution_count": 11,
   "id": "4a684a54",
   "metadata": {},
   "outputs": [
    {
     "data": {
      "text/plain": [
       "59"
      ]
     },
     "execution_count": 11,
     "metadata": {},
     "output_type": "execute_result"
    }
   ],
   "source": [
    "Num.add()"
   ]
  },
  {
   "cell_type": "code",
   "execution_count": 12,
   "id": "cb27973e",
   "metadata": {},
   "outputs": [
    {
     "data": {
      "text/plain": [
       "-31"
      ]
     },
     "execution_count": 12,
     "metadata": {},
     "output_type": "execute_result"
    }
   ],
   "source": [
    "Num.subtract()"
   ]
  },
  {
   "cell_type": "code",
   "execution_count": 13,
   "id": "d423dfb4",
   "metadata": {},
   "outputs": [
    {
     "data": {
      "text/plain": [
       "630"
      ]
     },
     "execution_count": 13,
     "metadata": {},
     "output_type": "execute_result"
    }
   ],
   "source": [
    "Num.multiply()"
   ]
  },
  {
   "cell_type": "code",
   "execution_count": 18,
   "id": "1dc9949a",
   "metadata": {},
   "outputs": [
    {
     "data": {
      "text/plain": [
       "0.3111111111111111"
      ]
     },
     "execution_count": 18,
     "metadata": {},
     "output_type": "execute_result"
    }
   ],
   "source": [
    "Num.divide()"
   ]
  },
  {
   "cell_type": "code",
   "execution_count": 19,
   "id": "56fdf6d7",
   "metadata": {},
   "outputs": [
    {
     "name": "stdout",
     "output_type": "stream",
     "text": [
      "Addition: 104\n",
      "Subtraction: 84\n",
      "Mutliplication: 940\n",
      "Division: 9.4\n"
     ]
    }
   ],
   "source": [
    "class Calculator:\n",
    "    def __init__(self, num1, num2):\n",
    "        self.num1 = num1\n",
    "        self.num2 = num2\n",
    "\n",
    "    def add(self):\n",
    "        return (self.num2 + self.num1)\n",
    "\n",
    "    def subtract(self):\n",
    "        return (self.num2 - self.num1)\n",
    "\n",
    "    def multiply(self):\n",
    "        return (self.num2 * self.num1)\n",
    "\n",
    "    def divide(self):\n",
    "        return (self.num2 / self.num1)\n",
    "\n",
    "\n",
    "demo1 = Calculator(10, 94)\n",
    "print(\"Addition:\", demo1.add())\n",
    "print(\"Subtraction:\", demo1.subtract())\n",
    "print(\"Mutliplication:\", demo1.multiply())\n",
    "print(\"Division:\", demo1.divide())\n"
   ]
  },
  {
   "cell_type": "code",
   "execution_count": 1,
   "id": "271cf279",
   "metadata": {},
   "outputs": [
    {
     "name": "stdout",
     "output_type": "stream",
     "text": [
      "ID = 3789\n",
      "GPA 3.5\n",
      "Department: Computer Science\n",
      "ID = 3790\n",
      "GPA 3.7\n"
     ]
    },
    {
     "ename": "AttributeError",
     "evalue": "'Student' object has no attribute 'department'",
     "output_type": "error",
     "traceback": [
      "\u001b[0;31m---------------------------------------------------------------------------\u001b[0m",
      "\u001b[0;31mAttributeError\u001b[0m                            Traceback (most recent call last)",
      "\u001b[0;32m/tmp/ipykernel_14993/2428910526.py\u001b[0m in \u001b[0;36m<module>\u001b[0;34m\u001b[0m\n\u001b[1;32m     29\u001b[0m \u001b[0mprint\u001b[0m\u001b[0;34m(\u001b[0m\u001b[0;34m\"ID =\"\u001b[0m\u001b[0;34m,\u001b[0m \u001b[0mJohn\u001b[0m\u001b[0;34m.\u001b[0m\u001b[0mID\u001b[0m\u001b[0;34m)\u001b[0m\u001b[0;34m\u001b[0m\u001b[0;34m\u001b[0m\u001b[0m\n\u001b[1;32m     30\u001b[0m \u001b[0mprint\u001b[0m\u001b[0;34m(\u001b[0m\u001b[0;34m\"GPA\"\u001b[0m\u001b[0;34m,\u001b[0m \u001b[0mJohn\u001b[0m\u001b[0;34m.\u001b[0m\u001b[0mGPA\u001b[0m\u001b[0;34m)\u001b[0m\u001b[0;34m\u001b[0m\u001b[0;34m\u001b[0m\u001b[0m\n\u001b[0;32m---> 31\u001b[0;31m \u001b[0mprint\u001b[0m\u001b[0;34m(\u001b[0m\u001b[0;34m\"Department:\"\u001b[0m\u001b[0;34m,\u001b[0m \u001b[0mJohn\u001b[0m\u001b[0;34m.\u001b[0m\u001b[0mdepartment\u001b[0m\u001b[0;34m)\u001b[0m\u001b[0;34m\u001b[0m\u001b[0;34m\u001b[0m\u001b[0m\n\u001b[0m",
      "\u001b[0;31mAttributeError\u001b[0m: 'Student' object has no attribute 'department'"
     ]
    }
   ],
   "source": [
    "class Student:\n",
    "    # defining the properties   \n",
    "    ID = None\n",
    "    GPA = None\n",
    "\n",
    "# creating an object of the Student class\n",
    "Peter = Student()\n",
    "\n",
    "# assigning values to properties of Peter\n",
    "Peter.ID = 3789\n",
    "Peter.GPA = 3.5\n",
    "\n",
    "# create a new attribute for Peter\n",
    "Peter.department = \"Computer Science\"\n",
    "\n",
    "\n",
    "# Create another Student object\n",
    "John = Student()\n",
    "John.ID = 3790\n",
    "John.GPA = 3.7\n",
    "\n",
    "\n",
    "# Printing properties of Peter\n",
    "print(\"ID =\", Peter.ID)\n",
    "print(\"GPA\", Peter.GPA)\n",
    "print(\"Department:\", Peter.department)\n",
    "\n",
    "# Printing properties of John\n",
    "print(\"ID =\", John.ID)\n",
    "print(\"GPA\", John.GPA)\n",
    "print(\"Department:\", John.department)"
   ]
  },
  {
   "cell_type": "code",
   "execution_count": null,
   "id": "911bc41d",
   "metadata": {},
   "outputs": [],
   "source": []
  }
 ],
 "metadata": {
  "kernelspec": {
   "display_name": "Python 3 (ipykernel)",
   "language": "python",
   "name": "python3"
  },
  "language_info": {
   "codemirror_mode": {
    "name": "ipython",
    "version": 3
   },
   "file_extension": ".py",
   "mimetype": "text/x-python",
   "name": "python",
   "nbconvert_exporter": "python",
   "pygments_lexer": "ipython3",
   "version": "3.9.7"
  }
 },
 "nbformat": 4,
 "nbformat_minor": 5
}
