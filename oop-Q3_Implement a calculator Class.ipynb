{
 "cells": [
  {
   "cell_type": "markdown",
   "id": "c59ed7a9",
   "metadata": {},
   "source": [
    "### problem statement \n",
    "---\n",
    "- write python class called calculator by completing the task below \n",
    "---\n",
    "- __initilizer__\n",
    "- implement an initializer to initialize the values of num1 and num2 \n"
   ]
  },
  {
   "cell_type": "code",
   "execution_count": 9,
   "id": "a9c33d5e",
   "metadata": {},
   "outputs": [],
   "source": [
    "class Calculator:\n",
    "    def __init__(self,num1,num2):\n",
    "        self.num1 = num1\n",
    "        self.num2 = num2 \n",
    "    def add(self):\n",
    "        return(self.num1 + self.num2)\n",
    "    \n",
    "    def subtract(self):\n",
    "        return (self.num1 - self.num2)\n",
    "    \n",
    "    def multiply(self):\n",
    "        \n",
    "        return (self.num1 * self.num2)\n",
    "    \n",
    "    def divide(self):\n",
    "        return (self.num1 / self.num2)\n",
    "    \n",
    "    "
   ]
  },
  {
   "cell_type": "code",
   "execution_count": 10,
   "id": "38c39eeb",
   "metadata": {},
   "outputs": [],
   "source": [
    "Num = Calculator( 14,45)\n"
   ]
  },
  {
   "cell_type": "code",
   "execution_count": 11,
   "id": "4a684a54",
   "metadata": {},
   "outputs": [
    {
     "data": {
      "text/plain": [
       "59"
      ]
     },
     "execution_count": 11,
     "metadata": {},
     "output_type": "execute_result"
    }
   ],
   "source": [
    "Num.add()"
   ]
  },
  {
   "cell_type": "code",
   "execution_count": 12,
   "id": "cb27973e",
   "metadata": {},
   "outputs": [
    {
     "data": {
      "text/plain": [
       "-31"
      ]
     },
     "execution_count": 12,
     "metadata": {},
     "output_type": "execute_result"
    }
   ],
   "source": [
    "Num.subtract()"
   ]
  },
  {
   "cell_type": "code",
   "execution_count": 13,
   "id": "d423dfb4",
   "metadata": {},
   "outputs": [
    {
     "data": {
      "text/plain": [
       "630"
      ]
     },
     "execution_count": 13,
     "metadata": {},
     "output_type": "execute_result"
    }
   ],
   "source": [
    "Num.multiply()"
   ]
  },
  {
   "cell_type": "code",
   "execution_count": 18,
   "id": "1dc9949a",
   "metadata": {},
   "outputs": [
    {
     "data": {
      "text/plain": [
       "0.3111111111111111"
      ]
     },
     "execution_count": 18,
     "metadata": {},
     "output_type": "execute_result"
    }
   ],
   "source": [
    "Num.divide()"
   ]
  },
  {
   "cell_type": "code",
   "execution_count": 19,
   "id": "56fdf6d7",
   "metadata": {},
   "outputs": [
    {
     "name": "stdout",
     "output_type": "stream",
     "text": [
      "Addition: 104\n",
      "Subtraction: 84\n",
      "Mutliplication: 940\n",
      "Division: 9.4\n"
     ]
    }
   ],
   "source": [
    "class Calculator:\n",
    "    def __init__(self, num1, num2):\n",
    "        self.num1 = num1\n",
    "        self.num2 = num2\n",
    "\n",
    "    def add(self):\n",
    "        return (self.num2 + self.num1)\n",
    "\n",
    "    def subtract(self):\n",
    "        return (self.num2 - self.num1)\n",
    "\n",
    "    def multiply(self):\n",
    "        return (self.num2 * self.num1)\n",
    "\n",
    "    def divide(self):\n",
    "        return (self.num2 / self.num1)\n",
    "\n",
    "\n",
    "demo1 = Calculator(10, 94)\n",
    "print(\"Addition:\", demo1.add())\n",
    "print(\"Subtraction:\", demo1.subtract())\n",
    "print(\"Mutliplication:\", demo1.multiply())\n",
    "print(\"Division:\", demo1.divide())\n"
   ]
  },
  {
   "cell_type": "code",
   "execution_count": null,
   "id": "271cf279",
   "metadata": {},
   "outputs": [],
   "source": []
  },
  {
   "cell_type": "code",
   "execution_count": null,
   "id": "911bc41d",
   "metadata": {},
   "outputs": [],
   "source": []
  }
 ],
 "metadata": {
  "kernelspec": {
   "display_name": "Python 3 (ipykernel)",
   "language": "python",
   "name": "python3"
  },
  "language_info": {
   "codemirror_mode": {
    "name": "ipython",
    "version": 3
   },
   "file_extension": ".py",
   "mimetype": "text/x-python",
   "name": "python",
   "nbconvert_exporter": "python",
   "pygments_lexer": "ipython3",
   "version": "3.9.7"
  }
 },
 "nbformat": 4,
 "nbformat_minor": 5
}
