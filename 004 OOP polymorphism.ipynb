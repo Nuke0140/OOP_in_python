{
 "cells": [
  {
   "cell_type": "markdown",
   "id": "c95dd3f2",
   "metadata": {},
   "source": [
    "## what is Polymorphism \n",
    "---\n",
    "- the word polymorphism is a combination of two Greek words poly meaning many and morph meaning forms \n",
    "- in programming polymorphism refer to the same object  exhibiting different forms and behaviors \n",
    "- For example, take the Shape Class. The exact shape you choose can be anything. It can be a rectangle, a circle, a polygon, or a diamond. While, these are all shapes, their properties are different. This is called polymorphism.\n",
    "\n"
   ]
  },
  {
   "cell_type": "markdown",
   "id": "de9ab4c2",
   "metadata": {},
   "source": [
    "#### implementing polymorphism using methods \n",
    "----\n",
    "- "
   ]
  },
  {
   "cell_type": "code",
   "execution_count": 3,
   "id": "5ed9b5cb",
   "metadata": {},
   "outputs": [
    {
     "name": "stdout",
     "output_type": "stream",
     "text": [
      "sides of a rectangle are 4\n",
      "Area of rectangle is:  60\n",
      "sides of a circle are 0\n",
      "Area of circle is:  153.958\n"
     ]
    }
   ],
   "source": [
    "class Rectangle():\n",
    "    \n",
    "    #initializer\n",
    "    def __init__(self,width=0,height=0):\n",
    "        self.width=width\n",
    "        self.height = height\n",
    "        self.sides=4\n",
    "    #method to calculate Area \n",
    "    def getArea(self):\n",
    "        return (self.width * self.height)\n",
    "    \n",
    "class Circle():\n",
    "    #initializer\n",
    "    def __init__(self,radius=0):\n",
    "        self.radius=radius\n",
    "        self.sides=0\n",
    "    \n",
    "    #method to calculate Area \n",
    "    def getArea(self):\n",
    "        return(self.radius * self.radius * 3.142)\n",
    "    \n",
    "shapes=[Rectangle(6,10),Circle(7)]\n",
    "print(\"sides of a rectangle are\",str(shapes[0].sides))\n",
    "print(\"Area of rectangle is: \",str(shapes[0].getArea()))\n",
    "\n",
    "print(\"sides of a circle are\", str(shapes[1].sides))\n",
    "print(\"Area of circle is: \",str(shapes[1].getArea()))"
   ]
  },
  {
   "cell_type": "markdown",
   "id": "5afb6d6e",
   "metadata": {},
   "source": [
    "###### Explaination \n",
    "- we have  declared a list that has two objects in it \n",
    "- the first object is rectangle with 6 and height 10 and the  second object is a circle of radius 7 \n",
    "- on lines  10 and 21 both the classes have the method getArea() but the execution of this method is different for each class \n",
    "- method calls on lines 2 and 30 look indentica but different methods are called  thus we have achieved polymorphism \n",
    "\n",
    "### implementing polymorphism using inheritance \n"
   ]
  },
  {
   "cell_type": "code",
   "execution_count": 1,
   "id": "ace8107c",
   "metadata": {},
   "outputs": [
    {
     "name": "stdout",
     "output_type": "stream",
     "text": [
      "Area of rectangle is : 60\n",
      "Area of circle is: 153.958\n"
     ]
    }
   ],
   "source": [
    "class Shape:\n",
    "    def __init__(self):\n",
    "        self.sides=0\n",
    "    \n",
    "    def getArea(self):\n",
    "        pass\n",
    "    \n",
    "\n",
    "    \n",
    "# Rectangle Is a Shape with a spcific width and height \n",
    "\n",
    "class Rectangle(Shape): # derived from shape class \n",
    "    # initializer \n",
    "    def __init__(self,width,height):\n",
    "        self.width=width\n",
    "        self.height=height\n",
    "        self.sides= 4\n",
    "    \n",
    "    # method to calculate Area\n",
    "    def getArea(self):\n",
    "        return(self.width * self.height)\n",
    "    \n",
    "\n",
    "#circle is a Shape with a specific radius \n",
    "class Circle(Shape): # derived from the shape class \n",
    "    #initializer\n",
    "    def __init__(self,radius):\n",
    "        self.radius=radius \n",
    "        self.sides=0\n",
    "    \n",
    "#method to calculate Area\n",
    "    def getArea(self):\n",
    "        return(self.radius * self.radius * 3.142)\n",
    "\n",
    "shapes = [Rectangle(6,10),Circle(7)]\n",
    "\n",
    "print(\"Area of rectangle is :\",str(shapes[0].getArea()))\n",
    "print(\"Area of circle is:\",str(shapes[1].getArea()))\n",
    "    "
   ]
  },
  {
   "cell_type": "markdown",
   "id": "8df6d86c",
   "metadata": {},
   "source": [
    "- in the main  function we have declared a list that has two object in it the first object is rectangle with width 6 and height 10 the second objet is circle of radius 7 \n",
    "- the getArea() method return the area of the respective shape this is polyorphism having specilized implementations of the same methods for each class\n",
    "\n",
    "-----\n",
    "### method overloading \n",
    "----\n",
    "- in other words if a subclass provides sepcific implemetation of method that had already been defined in one of its paret classes it is known as method overrding \n",
    "\n",
    "- in the previous example the rectangle and circle classes were overriding the getArea() method from  the shape class\n",
    "---\n",
    "- the method in the parent class is called the overridden method \n",
    "- the methods in the child classes are called the overriding methods \n",
    "\n",
    "## Advantage and key features of method overriding \n",
    "\n",
    "\n",
    "- The derived classes can give their own specific implementations to inherited methods without modifying the parent class methods.\n",
    "\n",
    "- For any method, a child class can use the implementation in the parent class or make its own implementation.\n",
    "\n",
    "- Method overriding needs inheritance, and there should be at least one derived class to implement it.\n",
    "\n",
    "- The methods in the derived classes usually have a dissimilar implementation.\n",
    "\n"
   ]
  },
  {
   "cell_type": "markdown",
   "id": "95e58aa9",
   "metadata": {},
   "source": [
    "## OPeartor Overloading \n",
    "---\n",
    "- overloading opeartor in python \n",
    "---\n",
    "- When a class is defined, its objects can interact with each other through the operators, but it is necessary to define the behavior of these operators through operator overloading.\n",
    "- When we add a complex number, the real part is added to the real part, and the imaginary part is added to the imaginary part.\n"
   ]
  },
  {
   "cell_type": "code",
   "execution_count": 23,
   "id": "036bc36a",
   "metadata": {},
   "outputs": [
    {
     "name": "stdout",
     "output_type": "stream",
     "text": [
      "real of obj3:  5\n",
      "imag of obj3:  12\n",
      "real of obj4:  1\n",
      "imag of obj4:  2\n"
     ]
    }
   ],
   "source": [
    "class Com:\n",
    "    def __init__(self,real=0,imag=0):\n",
    "        self.real=real\n",
    "        self.imag=imag\n",
    "    \n",
    "    def __add__(self,other): #oerloading th '+'opearator \n",
    "        temp=Com(self.real + other.real,self.imag + other.imag)\n",
    "        return temp \n",
    "    \n",
    "    def __sub__(self,other): # overloading th '-' opeartor \n",
    "        temp = Com (self.real - other.real,self.imag - other.imag)\n",
    "        return temp \n",
    "    \n",
    "obj1 = Com(3,7)\n",
    "obj2 = Com(2,5)\n",
    "\n",
    "obj3 = obj1 + obj2\n",
    "obj4 = obj1 - obj2\n",
    "\n",
    "print(\"real of obj3: \",obj3.real)\n",
    "print(\"imag of obj3: \",obj3.imag)\n",
    "print(\"real of obj4: \",obj4.real)\n",
    "print(\"imag of obj4: \",obj4.imag)"
   ]
  },
  {
   "cell_type": "markdown",
   "id": "8879ab92",
   "metadata": {},
   "source": [
    "-       +          __add __(self,other)\n",
    "-        -          __sub __(self,other)\n",
    "- /          __truediv __(self,other)\n",
    "- *          __mul __(self,other)\n",
    "- <          __it __(self,other)\n",
    "- >          __gt __(self,other)\n",
    "- ==         __eq __(self,other)"
   ]
  },
  {
   "cell_type": "markdown",
   "id": "24cbae2a",
   "metadata": {},
   "source": [
    "-  , its corresponding method is invoked to perform its predefined function. For example, when the + operator is called, it invokes the special function, __add__, in Python, but this operator acts differently for different data types. For example, the + operator adds the numbers when it is used between two int data types and merges two strings when it is used between string data types."
   ]
  },
  {
   "cell_type": "code",
   "execution_count": 1,
   "id": "76fb48e9",
   "metadata": {},
   "outputs": [
    {
     "name": "stdout",
     "output_type": "stream",
     "text": [
      "8\n",
      "moneymaker\n"
     ]
    }
   ],
   "source": [
    "print (5+3) # adding integers using '+'\n",
    "print(\"money\"+\"maker\") #merging strings using \"+\""
   ]
  },
  {
   "cell_type": "code",
   "execution_count": 3,
   "id": "0996e985",
   "metadata": {},
   "outputs": [
    {
     "name": "stdout",
     "output_type": "stream",
     "text": [
      "real of obj 3 5\n",
      "imag of obj3  12\n",
      "real of obj4  1\n",
      "imag of obj4 2\n"
     ]
    }
   ],
   "source": [
    "class Com:\n",
    "    def __init__(self,real=0,imag=0):\n",
    "        self.real=real\n",
    "        self.imag=imag\n",
    "    def __add__(self,other): #overloading '+' opearator \n",
    "        temp=Com(self.real + other.real,self.imag + other.imag)\n",
    "        return temp \n",
    "    \n",
    "    def __sub__(self,other): # overloadig the \"-\" opeartor \n",
    "        temp = Com(self.real - other.real,self.imag - other.imag)\n",
    "        return temp\n",
    "\n",
    "    \n",
    "obj1 = Com(3,7)\n",
    "obj2 =Com(2,5)\n",
    "\n",
    "obj3 = obj1 + obj2\n",
    "obj4 = obj1 - obj2\n",
    "\n",
    "print (\"real of obj 3\", obj3.real)\n",
    "print(\"imag of obj3 \", obj3.imag)\n",
    "print(\"real of obj4 \", obj4.real)\n",
    "print(\"imag of obj4\", obj4.imag)"
   ]
  },
  {
   "cell_type": "markdown",
   "id": "de11742f",
   "metadata": {},
   "source": [
    "### Implementing polymorphism using Duck typing \n",
    "--- \n",
    "- duck typing is one of the most concept in  object-oriented programming"
   ]
  },
  {
   "cell_type": "code",
   "execution_count": 5,
   "id": "325dd3e8",
   "metadata": {},
   "outputs": [
    {
     "name": "stdout",
     "output_type": "stream",
     "text": [
      "woof woof\n",
      "meow meow\n"
     ]
    }
   ],
   "source": [
    "class Dog:\n",
    "    def Speak(self):\n",
    "        print (\"woof woof\")\n",
    "    \n",
    "class Cat:\n",
    "    def Speak(self):\n",
    "        print(\"meow meow\")\n",
    "\n",
    "class AnimalSound:\n",
    "    def sound(self,animal):\n",
    "        animal.Speak()\n",
    "        \n",
    "sound = AnimalSound()\n",
    "dog =Dog()\n",
    "cat = Cat()\n",
    "\n",
    "sound.sound(dog)\n",
    "sound.sound(cat)"
   ]
  },
  {
   "cell_type": "markdown",
   "id": "092facd9",
   "metadata": {},
   "source": [
    "### Abstract base  classes \n",
    "----\n",
    "- Abstract base classes define a set of methods and properties that a class must implement in order to be considered a duck-type instance of that class."
   ]
  },
  {
   "cell_type": "code",
   "execution_count": 8,
   "id": "6b71c40a",
   "metadata": {},
   "outputs": [],
   "source": [
    "class Shape: # Shape is a child class of \n",
    "    def area(self):\n",
    "        pass\n",
    "    def perimeter(self):\n",
    "        pass\n",
    "    \n",
    "class Square(Shape):\n",
    "    def __init__(self,length):\n",
    "        self.length=length \n",
    "        \n",
    "    def area(self):\n",
    "        return(self.length * self.length)\n",
    "    \n",
    "    def perimeter(self):\n",
    "        return(4 * self.length)\n",
    "    \n",
    "shape=Shape()\n",
    "square = Square(4)"
   ]
  },
  {
   "cell_type": "code",
   "execution_count": 9,
   "id": "2b6c1415",
   "metadata": {},
   "outputs": [
    {
     "ename": "TypeError",
     "evalue": "Can't instantiate abstract class Shape with abstract methods area, perimeter",
     "output_type": "error",
     "traceback": [
      "\u001b[0;31m---------------------------------------------------------------------------\u001b[0m",
      "\u001b[0;31mTypeError\u001b[0m                                 Traceback (most recent call last)",
      "\u001b[0;32m/tmp/ipykernel_7441/3287573031.py\u001b[0m in \u001b[0;36m<module>\u001b[0;34m\u001b[0m\n\u001b[1;32m     17\u001b[0m \u001b[0;34m\u001b[0m\u001b[0m\n\u001b[1;32m     18\u001b[0m \u001b[0;34m\u001b[0m\u001b[0m\n\u001b[0;32m---> 19\u001b[0;31m \u001b[0mshape\u001b[0m \u001b[0;34m=\u001b[0m \u001b[0mShape\u001b[0m\u001b[0;34m(\u001b[0m\u001b[0;34m)\u001b[0m\u001b[0;34m\u001b[0m\u001b[0;34m\u001b[0m\u001b[0m\n\u001b[0m\u001b[1;32m     20\u001b[0m \u001b[0;31m# this code will not compile since Shape has abstract methods without\u001b[0m\u001b[0;34m\u001b[0m\u001b[0;34m\u001b[0m\u001b[0m\n\u001b[1;32m     21\u001b[0m \u001b[0;31m# method definitions in it\u001b[0m\u001b[0;34m\u001b[0m\u001b[0;34m\u001b[0m\u001b[0m\n",
      "\u001b[0;31mTypeError\u001b[0m: Can't instantiate abstract class Shape with abstract methods area, perimeter"
     ]
    }
   ],
   "source": [
    "from abc import ABC, abstractmethod\n",
    "\n",
    "\n",
    "class Shape(ABC):  # Shape is a child class of ABC\n",
    "    @abstractmethod\n",
    "    def area(self):\n",
    "        pass\n",
    "\n",
    "    @abstractmethod\n",
    "    def perimeter(self):\n",
    "        pass\n",
    "\n",
    "\n",
    "class Square(Shape):\n",
    "    def __init__(self, length):\n",
    "        self.length = length\n",
    "\n",
    "\n",
    "shape = Shape()\n",
    "# this code will not compile since Shape has abstract methods without\n",
    "# method definitions in it\n"
   ]
  },
  {
   "cell_type": "code",
   "execution_count": null,
   "id": "07fac4ac",
   "metadata": {},
   "outputs": [],
   "source": []
  }
 ],
 "metadata": {
  "kernelspec": {
   "display_name": "Python 3 (ipykernel)",
   "language": "python",
   "name": "python3"
  },
  "language_info": {
   "codemirror_mode": {
    "name": "ipython",
    "version": 3
   },
   "file_extension": ".py",
   "mimetype": "text/x-python",
   "name": "python",
   "nbconvert_exporter": "python",
   "pygments_lexer": "ipython3",
   "version": "3.9.7"
  }
 },
 "nbformat": 4,
 "nbformat_minor": 5
}
