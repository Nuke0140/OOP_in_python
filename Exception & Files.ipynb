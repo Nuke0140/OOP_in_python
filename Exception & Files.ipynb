{
 "cells": [
  {
   "cell_type": "markdown",
   "id": "19ebf29d",
   "metadata": {},
   "source": [
    "### Exceptions & Files \n",
    "------\n",
    "-\n",
    "- you have already seen exception in previous code  they occur when somthing goes wrong , due to incorrect code or input , hwen the exception occurs the program immediately stops \n",
    "\n",
    "------\n",
    "- \n",
    "##### Different exceptions are raised for different reasons.\n",
    "- Common exceptions:\n",
    "- ImportError: an import fails;\n",
    "- IndexError: a list is indexed with an out-of-range number;\n",
    "- NameError: an unknown variable is used;\n",
    "- SyntaxError: the code can't be parsed properly;\n",
    "- TypeError: a function is called on a value of an inappropriate type;\n",
    "- ValueError: a function is called on a value of the correct type, but with an inappropriate value. \n",
    "\n",
    "----\n",
    "- Python has several other built-in exceptions, such as ZeroDivisionError and OSError. Third-party libraries also often define their own exceptions."
   ]
  },
  {
   "cell_type": "markdown",
   "id": "0427c28f",
   "metadata": {},
   "source": [
    "## Exception Handling \n",
    "\n",
    "---\n",
    "- to handle exception and to call code when an exception occurs , you cann use try /except statement \n",
    "- try block contain code that might thore an exception. if that exception occurs the code in th try block stoips being executed and the code in the except block is run . if no error occurs the code in the except block doesnt run  "
   ]
  },
  {
   "cell_type": "code",
   "execution_count": 1,
   "id": "6e7accbb",
   "metadata": {},
   "outputs": [
    {
     "name": "stdout",
     "output_type": "stream",
     "text": [
      "An error occurred\n",
      "due to zero division\n"
     ]
    }
   ],
   "source": [
    "try:\n",
    "    num1 = 7\n",
    "    num2 = 0\n",
    "    print (num1 / num2)\n",
    "    print(\"Done calculation\")\n",
    "except ZeroDivisionError:\n",
    "    print(\"An error occurred\")\n",
    "    print(\"due to zero division\")"
   ]
  },
  {
   "cell_type": "markdown",
   "id": "395c0bb2",
   "metadata": {},
   "source": [
    "- A try statement can have multiple diffrent except blocks to handle different exceptios \n",
    "- multiple exceptio can also be put into a single except block using parentheses to have the except block hanfle all of them "
   ]
  },
  {
   "cell_type": "code",
   "execution_count": 2,
   "id": "e647b28d",
   "metadata": {},
   "outputs": [
    {
     "name": "stdout",
     "output_type": "stream",
     "text": [
      "Error occurred\n"
     ]
    }
   ],
   "source": [
    "try:\n",
    "    variable = 10\n",
    "    print(variable + \"hello\")\n",
    "    print(variable / 2)\n",
    "except ZeroDivisionError:\n",
    "    print(\"Divided by zero\")\n",
    "except (ValueError, TypeError):\n",
    "    print(\"Error occurred\")"
   ]
  },
  {
   "cell_type": "markdown",
   "id": "aba6c1c8",
   "metadata": {},
   "source": [
    "- An except statement without any exception specified will catch all errors these should be used sparingly, as they can catch unexpected erros and hide programming mistake \n"
   ]
  },
  {
   "cell_type": "code",
   "execution_count": 4,
   "id": "c827d3f1",
   "metadata": {},
   "outputs": [
    {
     "name": "stdout",
     "output_type": "stream",
     "text": [
      "An error occurred\n"
     ]
    }
   ],
   "source": [
    "try:\n",
    "    word = \"spam\"\n",
    "    print(word / 0)\n",
    "except:\n",
    "    print(\"An error occurred\")\n",
    "\n",
    "# Exception handling is particularyly useful when dealing with user input "
   ]
  },
  {
   "cell_type": "markdown",
   "id": "48f6c4c7",
   "metadata": {},
   "source": [
    "### Finally \n",
    "- to ensure code runs no matter what errors occur,  you can use finally statement \n",
    "- the finally statement is placed at the bottom of try/except  statement \n",
    "- code  within a fially statment always runs after execution of the code in the try and possibly in the except block "
   ]
  },
  {
   "cell_type": "code",
   "execution_count": 5,
   "id": "d9e1101c",
   "metadata": {},
   "outputs": [
    {
     "name": "stdout",
     "output_type": "stream",
     "text": [
      "Hello\n",
      "Divided by zero\n",
      "This code will run no matter what\n"
     ]
    }
   ],
   "source": [
    "try:\n",
    "    print(\"Hello\")\n",
    "    print(1 / 0)\n",
    "except ZeroDivisionError:\n",
    "    print(\"Divided by zero\")\n",
    "finally:\n",
    "    print(\"This code will run no matter what\")"
   ]
  },
  {
   "cell_type": "code",
   "execution_count": 6,
   "id": "4bd490e2",
   "metadata": {},
   "outputs": [
    {
     "name": "stdout",
     "output_type": "stream",
     "text": [
      "1\n",
      "This is executed last\n"
     ]
    },
    {
     "ename": "NameError",
     "evalue": "name 'unknown_var' is not defined",
     "output_type": "error",
     "traceback": [
      "\u001b[0;31m---------------------------------------------------------------------------\u001b[0m",
      "\u001b[0;31mZeroDivisionError\u001b[0m                         Traceback (most recent call last)",
      "\u001b[0;32m/tmp/ipykernel_17907/1482278583.py\u001b[0m in \u001b[0;36m<module>\u001b[0;34m\u001b[0m\n\u001b[1;32m      3\u001b[0m     \u001b[0mprint\u001b[0m\u001b[0;34m(\u001b[0m\u001b[0;36m1\u001b[0m\u001b[0;34m)\u001b[0m\u001b[0;34m\u001b[0m\u001b[0;34m\u001b[0m\u001b[0m\n\u001b[0;32m----> 4\u001b[0;31m     \u001b[0mprint\u001b[0m\u001b[0;34m(\u001b[0m\u001b[0;36m10\u001b[0m \u001b[0;34m/\u001b[0m \u001b[0;36m0\u001b[0m\u001b[0;34m)\u001b[0m\u001b[0;34m\u001b[0m\u001b[0;34m\u001b[0m\u001b[0m\n\u001b[0m\u001b[1;32m      5\u001b[0m \u001b[0;32mexcept\u001b[0m \u001b[0mZeroDivisionError\u001b[0m\u001b[0;34m:\u001b[0m\u001b[0;34m\u001b[0m\u001b[0;34m\u001b[0m\u001b[0m\n",
      "\u001b[0;31mZeroDivisionError\u001b[0m: division by zero",
      "\nDuring handling of the above exception, another exception occurred:\n",
      "\u001b[0;31mNameError\u001b[0m                                 Traceback (most recent call last)",
      "\u001b[0;32m/tmp/ipykernel_17907/1482278583.py\u001b[0m in \u001b[0;36m<module>\u001b[0;34m\u001b[0m\n\u001b[1;32m      4\u001b[0m     \u001b[0mprint\u001b[0m\u001b[0;34m(\u001b[0m\u001b[0;36m10\u001b[0m \u001b[0;34m/\u001b[0m \u001b[0;36m0\u001b[0m\u001b[0;34m)\u001b[0m\u001b[0;34m\u001b[0m\u001b[0;34m\u001b[0m\u001b[0m\n\u001b[1;32m      5\u001b[0m \u001b[0;32mexcept\u001b[0m \u001b[0mZeroDivisionError\u001b[0m\u001b[0;34m:\u001b[0m\u001b[0;34m\u001b[0m\u001b[0;34m\u001b[0m\u001b[0m\n\u001b[0;32m----> 6\u001b[0;31m     \u001b[0mprint\u001b[0m\u001b[0;34m(\u001b[0m\u001b[0munknown_var\u001b[0m\u001b[0;34m)\u001b[0m\u001b[0;34m\u001b[0m\u001b[0;34m\u001b[0m\u001b[0m\n\u001b[0m\u001b[1;32m      7\u001b[0m \u001b[0;32mfinally\u001b[0m\u001b[0;34m:\u001b[0m\u001b[0;34m\u001b[0m\u001b[0;34m\u001b[0m\u001b[0m\n\u001b[1;32m      8\u001b[0m     \u001b[0mprint\u001b[0m\u001b[0;34m(\u001b[0m\u001b[0;34m\"This is executed last\"\u001b[0m\u001b[0;34m)\u001b[0m\u001b[0;34m\u001b[0m\u001b[0;34m\u001b[0m\u001b[0m\n",
      "\u001b[0;31mNameError\u001b[0m: name 'unknown_var' is not defined"
     ]
    }
   ],
   "source": [
    "# code in finally statement even runs if an uncaught exception occurs in one of the preceding blocks \n",
    "try:\n",
    "    print(1)\n",
    "    print(10 / 0)\n",
    "except ZeroDivisionError:\n",
    "    print(unknown_var)\n",
    "finally:\n",
    "    print(\"This is executed last\")"
   ]
  },
  {
   "cell_type": "markdown",
   "id": "e26b328b",
   "metadata": {},
   "source": [
    "#### Raisign Exception \n",
    " - you can raise exception by using the raise statement \n",
    " "
   ]
  },
  {
   "cell_type": "code",
   "execution_count": 7,
   "id": "718840e3",
   "metadata": {},
   "outputs": [
    {
     "name": "stdout",
     "output_type": "stream",
     "text": [
      "1\n"
     ]
    },
    {
     "ename": "ValueError",
     "evalue": "",
     "output_type": "error",
     "traceback": [
      "\u001b[0;31m---------------------------------------------------------------------------\u001b[0m",
      "\u001b[0;31mValueError\u001b[0m                                Traceback (most recent call last)",
      "\u001b[0;32m/tmp/ipykernel_17907/2756599922.py\u001b[0m in \u001b[0;36m<module>\u001b[0;34m\u001b[0m\n\u001b[1;32m      1\u001b[0m \u001b[0mprint\u001b[0m\u001b[0;34m(\u001b[0m\u001b[0;36m1\u001b[0m\u001b[0;34m)\u001b[0m\u001b[0;34m\u001b[0m\u001b[0;34m\u001b[0m\u001b[0m\n\u001b[0;32m----> 2\u001b[0;31m \u001b[0;32mraise\u001b[0m \u001b[0mValueError\u001b[0m\u001b[0;34m\u001b[0m\u001b[0;34m\u001b[0m\u001b[0m\n\u001b[0m\u001b[1;32m      3\u001b[0m \u001b[0mprint\u001b[0m\u001b[0;34m(\u001b[0m\u001b[0;36m2\u001b[0m\u001b[0;34m)\u001b[0m\u001b[0;34m\u001b[0m\u001b[0;34m\u001b[0m\u001b[0m\n",
      "\u001b[0;31mValueError\u001b[0m: "
     ]
    }
   ],
   "source": [
    "print(1)\n",
    "raise ValueError\n",
    "print(2)"
   ]
  },
  {
   "cell_type": "code",
   "execution_count": 8,
   "id": "bdb72c49",
   "metadata": {},
   "outputs": [
    {
     "ename": "NameError",
     "evalue": "Invalid name!",
     "output_type": "error",
     "traceback": [
      "\u001b[0;31m---------------------------------------------------------------------------\u001b[0m",
      "\u001b[0;31mNameError\u001b[0m                                 Traceback (most recent call last)",
      "\u001b[0;32m/tmp/ipykernel_17907/1155646232.py\u001b[0m in \u001b[0;36m<module>\u001b[0;34m\u001b[0m\n\u001b[1;32m      1\u001b[0m \u001b[0mname\u001b[0m \u001b[0;34m=\u001b[0m \u001b[0;34m\"123\"\u001b[0m\u001b[0;34m\u001b[0m\u001b[0;34m\u001b[0m\u001b[0m\n\u001b[0;32m----> 2\u001b[0;31m \u001b[0;32mraise\u001b[0m \u001b[0mNameError\u001b[0m\u001b[0;34m(\u001b[0m\u001b[0;34m\"Invalid name!\"\u001b[0m\u001b[0;34m)\u001b[0m\u001b[0;34m\u001b[0m\u001b[0;34m\u001b[0m\u001b[0m\n\u001b[0m",
      "\u001b[0;31mNameError\u001b[0m: Invalid name!"
     ]
    }
   ],
   "source": [
    "name = \"123\"\n",
    "raise NameError(\"Invalid name!\")"
   ]
  },
  {
   "cell_type": "code",
   "execution_count": 9,
   "id": "42273350",
   "metadata": {},
   "outputs": [
    {
     "name": "stdout",
     "output_type": "stream",
     "text": [
      "An error occurred\n"
     ]
    },
    {
     "ename": "ZeroDivisionError",
     "evalue": "division by zero",
     "output_type": "error",
     "traceback": [
      "\u001b[0;31m---------------------------------------------------------------------------\u001b[0m",
      "\u001b[0;31mZeroDivisionError\u001b[0m                         Traceback (most recent call last)",
      "\u001b[0;32m/tmp/ipykernel_17907/316929003.py\u001b[0m in \u001b[0;36m<module>\u001b[0;34m\u001b[0m\n\u001b[1;32m      1\u001b[0m \u001b[0;32mtry\u001b[0m\u001b[0;34m:\u001b[0m\u001b[0;34m\u001b[0m\u001b[0;34m\u001b[0m\u001b[0m\n\u001b[0;32m----> 2\u001b[0;31m     \u001b[0mnum\u001b[0m \u001b[0;34m=\u001b[0m \u001b[0;36m5\u001b[0m \u001b[0;34m/\u001b[0m \u001b[0;36m0\u001b[0m\u001b[0;34m\u001b[0m\u001b[0;34m\u001b[0m\u001b[0m\n\u001b[0m\u001b[1;32m      3\u001b[0m \u001b[0;32mexcept\u001b[0m\u001b[0;34m:\u001b[0m\u001b[0;34m\u001b[0m\u001b[0;34m\u001b[0m\u001b[0m\n\u001b[1;32m      4\u001b[0m     \u001b[0mprint\u001b[0m\u001b[0;34m(\u001b[0m\u001b[0;34m\"An error occurred\"\u001b[0m\u001b[0;34m)\u001b[0m\u001b[0;34m\u001b[0m\u001b[0;34m\u001b[0m\u001b[0m\n\u001b[1;32m      5\u001b[0m     \u001b[0;32mraise\u001b[0m\u001b[0;34m\u001b[0m\u001b[0;34m\u001b[0m\u001b[0m\n",
      "\u001b[0;31mZeroDivisionError\u001b[0m: division by zero"
     ]
    }
   ],
   "source": [
    "try:\n",
    "    num = 5 / 0\n",
    "except:\n",
    "    print(\"An error occurred\")\n",
    "    raise"
   ]
  },
  {
   "cell_type": "markdown",
   "id": "69ad93aa",
   "metadata": {},
   "source": [
    "- \n",
    "In except blocks, the raise statement can be used without arguments to re-raise whatever exception occurred. "
   ]
  },
  {
   "cell_type": "markdown",
   "id": "292a44b0",
   "metadata": {},
   "source": [
    "## Assertions \n",
    "----\n",
    "- An assertion is a sanity- chack that you can turn on or turn off when you have finished testing the program \n",
    "- an expression is teated and if the resut comes up false an exception is raised \n",
    "- Assetions are carried out through use of the assert staatment"
   ]
  },
  {
   "cell_type": "code",
   "execution_count": 10,
   "id": "bc0d953b",
   "metadata": {},
   "outputs": [
    {
     "name": "stdout",
     "output_type": "stream",
     "text": [
      "1\n",
      "2\n"
     ]
    },
    {
     "ename": "AssertionError",
     "evalue": "",
     "output_type": "error",
     "traceback": [
      "\u001b[0;31m---------------------------------------------------------------------------\u001b[0m",
      "\u001b[0;31mAssertionError\u001b[0m                            Traceback (most recent call last)",
      "\u001b[0;32m/tmp/ipykernel_17907/552028463.py\u001b[0m in \u001b[0;36m<module>\u001b[0;34m\u001b[0m\n\u001b[1;32m      2\u001b[0m \u001b[0;32massert\u001b[0m \u001b[0;36m2\u001b[0m \u001b[0;34m+\u001b[0m \u001b[0;36m2\u001b[0m \u001b[0;34m==\u001b[0m \u001b[0;36m4\u001b[0m\u001b[0;34m\u001b[0m\u001b[0;34m\u001b[0m\u001b[0m\n\u001b[1;32m      3\u001b[0m \u001b[0mprint\u001b[0m\u001b[0;34m(\u001b[0m\u001b[0;36m2\u001b[0m\u001b[0;34m)\u001b[0m\u001b[0;34m\u001b[0m\u001b[0;34m\u001b[0m\u001b[0m\n\u001b[0;32m----> 4\u001b[0;31m \u001b[0;32massert\u001b[0m \u001b[0;36m1\u001b[0m \u001b[0;34m+\u001b[0m \u001b[0;36m1\u001b[0m \u001b[0;34m==\u001b[0m \u001b[0;36m3\u001b[0m\u001b[0;34m\u001b[0m\u001b[0;34m\u001b[0m\u001b[0m\n\u001b[0m\u001b[1;32m      5\u001b[0m \u001b[0mprint\u001b[0m\u001b[0;34m(\u001b[0m\u001b[0;36m3\u001b[0m\u001b[0;34m)\u001b[0m\u001b[0;34m\u001b[0m\u001b[0;34m\u001b[0m\u001b[0m\n",
      "\u001b[0;31mAssertionError\u001b[0m: "
     ]
    }
   ],
   "source": [
    "print(1)\n",
    "assert 2 + 2 == 4\n",
    "print(2)\n",
    "assert 1 + 1 == 3\n",
    "print(3)"
   ]
  },
  {
   "cell_type": "markdown",
   "id": "b79d669c",
   "metadata": {},
   "source": [
    "- Programmers often place assertions at the start of a function to check for valid input, and after a function call to check for valid output."
   ]
  },
  {
   "cell_type": "code",
   "execution_count": null,
   "id": "070e5057",
   "metadata": {},
   "outputs": [],
   "source": [
    "print(0)\n",
    "\n",
    "assert \"h\" != \"w\"\n",
    "\n",
    "print (1)\n",
    "\n",
    "assert False\n",
    "\n",
    "print(2)\n",
    "\n",
    "assert True\n",
    "\n",
    "print(3)"
   ]
  },
  {
   "cell_type": "markdown",
   "id": "d7bfabb3",
   "metadata": {},
   "source": [
    "- \n",
    "\n",
    "The assert can take a second argument that is passed to the AssertionError raised if the assertion fails. "
   ]
  },
  {
   "cell_type": "markdown",
   "id": "d5d3c11c",
   "metadata": {},
   "source": [
    "- AssertionError exceptions can be caught and handled like any other exception using the try-except statement, but if not handled, this type of exception will terminate the program."
   ]
  },
  {
   "cell_type": "code",
   "execution_count": 12,
   "id": "9b4dd0f8",
   "metadata": {},
   "outputs": [
    {
     "ename": "AssertionError",
     "evalue": "Colder than absolute zero!",
     "output_type": "error",
     "traceback": [
      "\u001b[0;31m---------------------------------------------------------------------------\u001b[0m",
      "\u001b[0;31mAssertionError\u001b[0m                            Traceback (most recent call last)",
      "\u001b[0;32m/tmp/ipykernel_17907/333819121.py\u001b[0m in \u001b[0;36m<module>\u001b[0;34m\u001b[0m\n\u001b[1;32m      1\u001b[0m \u001b[0mtemp\u001b[0m \u001b[0;34m=\u001b[0m \u001b[0;34m-\u001b[0m\u001b[0;36m10\u001b[0m\u001b[0;34m\u001b[0m\u001b[0;34m\u001b[0m\u001b[0m\n\u001b[0;32m----> 2\u001b[0;31m \u001b[0;32massert\u001b[0m \u001b[0;34m(\u001b[0m\u001b[0mtemp\u001b[0m \u001b[0;34m>=\u001b[0m \u001b[0;36m0\u001b[0m\u001b[0;34m)\u001b[0m\u001b[0;34m,\u001b[0m \u001b[0;34m\"Colder than absolute zero!\"\u001b[0m\u001b[0;34m\u001b[0m\u001b[0;34m\u001b[0m\u001b[0m\n\u001b[0m",
      "\u001b[0;31mAssertionError\u001b[0m: Colder than absolute zero!"
     ]
    }
   ],
   "source": [
    "temp = -10\n",
    "assert (temp >= 0), \"Colder than absolute zero!\""
   ]
  },
  {
   "cell_type": "markdown",
   "id": "47fc9981",
   "metadata": {},
   "source": [
    "### opening files \n",
    "----\n",
    "- you can use python to read and write the  contents of files \n",
    "- txt files the easiedt to manipulate before a file can be editied it must be opened using open function \n"
   ]
  },
  {
   "cell_type": "code",
   "execution_count": 17,
   "id": "1068b399",
   "metadata": {},
   "outputs": [],
   "source": [
    "myfile = open(\"file\")"
   ]
  },
  {
   "cell_type": "markdown",
   "id": "a8f98250",
   "metadata": {},
   "source": [
    "- The argument of the open function is the path to the file. If the file is in the current working directory of the program, you can specify only its name.\n",
    "-----\n",
    "----\n",
    " #### openinng files \n",
    " - you can specify the mode used to open file by applying second argument to the open function \n",
    " -\n",
    " - sending \"r\" means open in read mode which is the default \n",
    " - sending \"w\" means write mode for rewriting the \n",
    " - sending \"a\" means append mode for adding new content to the end of the file\n",
    " - adding \"b\" to a mode opeans it in binary mode, whcih is used for non-text files (such as image and sound file)\n",
    " - You can use the + sign with each of the modes above to give them extra access to files. For example, r+ opens the file for both reading and writing.\n",
    " ----\n",
    " - once a file has been opended nad used you should close it  this is done with  the close method of the file object \n",
    " "
   ]
  },
  {
   "cell_type": "code",
   "execution_count": 19,
   "id": "19e63c89",
   "metadata": {},
   "outputs": [
    {
     "name": "stdout",
     "output_type": "stream",
     "text": [
      " hey this is nil you wanna talk with me right \n",
      " \n",
      "  i  also excited about it  tell when we can meet .. we can hangout some little time \n",
      "   what say !\n",
      "\n"
     ]
    }
   ],
   "source": [
    "file = open(\"filename.txt\", \"r\")\n",
    "\n",
    "cont = file.read()\n",
    "print(cont)\n",
    "\n",
    "file.close()"
   ]
  },
  {
   "cell_type": "markdown",
   "id": "a40483b4",
   "metadata": {},
   "source": [
    "### Reading files \n",
    "----\n",
    "- to read only certain amount of file, you can roovide a number as a argument to the read function  this detremines the numbe of  bytes that should be read \n"
   ]
  },
  {
   "cell_type": "code",
   "execution_count": 20,
   "id": "b66f080d",
   "metadata": {},
   "outputs": [
    {
     "name": "stdout",
     "output_type": "stream",
     "text": [
      " hey this is nil\n",
      " you\n",
      " wan\n",
      "na talk with me right \n",
      " \n",
      "  i  also excited about it  tell when we can meet .. we can hangout some little time \n",
      "   what say !\n",
      "\n"
     ]
    }
   ],
   "source": [
    "file = open(\"filename.txt\", \"r\")\n",
    "\n",
    "print(file.read(16))\n",
    "\n",
    "print(file.read(4))\n",
    "\n",
    "print(file.read(4))\n",
    "\n",
    "print(file.read())\n",
    "\n",
    "file.close()"
   ]
  },
  {
   "cell_type": "code",
   "execution_count": 21,
   "id": "3035da21",
   "metadata": {},
   "outputs": [
    {
     "name": "stdout",
     "output_type": "stream",
     "text": [
      "Re-reading\n",
      "\n",
      "Finished\n"
     ]
    }
   ],
   "source": [
    "file = open(\"filename.txt\", \"r\")\n",
    "\n",
    "file.read()\n",
    "\n",
    "print(\"Re-reading\")\n",
    "\n",
    "print(file.read())\n",
    "\n",
    "print(\"Finished\")\n",
    "\n",
    "file.close()"
   ]
  },
  {
   "cell_type": "markdown",
   "id": "aa0700ca",
   "metadata": {},
   "source": [
    "### Writing  Files \n",
    "- to write files you use the write method, which writes a string to the fie "
   ]
  },
  {
   "cell_type": "code",
   "execution_count": 25,
   "id": "33fa4b49",
   "metadata": {},
   "outputs": [],
   "source": [
    "file = open(\"filename.txt\",\"w\")"
   ]
  },
  {
   "cell_type": "code",
   "execution_count": 26,
   "id": "ddac8983",
   "metadata": {},
   "outputs": [
    {
     "data": {
      "text/plain": [
       "51"
      ]
     },
     "execution_count": 26,
     "metadata": {},
     "output_type": "execute_result"
    }
   ],
   "source": [
    "file.write(\"Sorry to say but  i am busy now so we cant meet 0-0\")"
   ]
  },
  {
   "cell_type": "code",
   "execution_count": 27,
   "id": "e6584a9d",
   "metadata": {},
   "outputs": [],
   "source": [
    "file.close()"
   ]
  },
  {
   "cell_type": "code",
   "execution_count": 28,
   "id": "b6a510ac",
   "metadata": {},
   "outputs": [
    {
     "name": "stdout",
     "output_type": "stream",
     "text": [
      "Sorry to say but  i am busy now so we cant meet 0-0\n"
     ]
    }
   ],
   "source": [
    "file=open(\"filename.txt\",\"r\")\n",
    "print(file.read())\n",
    "file.close()"
   ]
  },
  {
   "cell_type": "markdown",
   "id": "f00678a2",
   "metadata": {},
   "source": [
    "- The \"w\" mode will create a file, if it does not already exist."
   ]
  },
  {
   "cell_type": "code",
   "execution_count": 29,
   "id": "27ee8f85",
   "metadata": {},
   "outputs": [
    {
     "name": "stdout",
     "output_type": "stream",
     "text": [
      "12\n"
     ]
    }
   ],
   "source": [
    "# the write method return the number of bytes written to file, if successful \n",
    "msg = \"Hello world!\"\n",
    "file = open(\"newfile.txt\", \"w\")\n",
    "amount_written = file.write(msg)\n",
    "print(amount_written)\n",
    "file.close()"
   ]
  },
  {
   "cell_type": "markdown",
   "id": "25a0eb7d",
   "metadata": {},
   "source": [
    "## Working with files \n",
    "- it is good practice to avoid wasting resources by making sure files are always closed after thay have been used one way doing this is to use try ad finally \n"
   ]
  },
  {
   "cell_type": "code",
   "execution_count": 30,
   "id": "8d4e9566",
   "metadata": {},
   "outputs": [
    {
     "name": "stdout",
     "output_type": "stream",
     "text": [
      "Sorry to say but  i am busy now so we cant meet 0-0\n"
     ]
    }
   ],
   "source": [
    "try:\n",
    "   f = open(\"filename.txt\")\n",
    "\n",
    "   print(f.read())\n",
    "\n",
    "finally:\n",
    "   f.close()"
   ]
  },
  {
   "cell_type": "markdown",
   "id": "cad7a15d",
   "metadata": {},
   "source": [
    "- This ensures that the file is always closed, even if an error occurs.\n",
    "\n",
    "----\n",
    "- an alternative way to  doing this is using with statements . this create a temporary variable =(often called f)which is only accessible in the indented block of the with statement \n",
    "----\n",
    "- The file is automatically closed at the end of the with statement, even if exceptions occur within it."
   ]
  },
  {
   "cell_type": "code",
   "execution_count": 31,
   "id": "62419fde",
   "metadata": {},
   "outputs": [
    {
     "name": "stdout",
     "output_type": "stream",
     "text": [
      "Sorry to say but  i am busy now so we cant meet 0-0\n"
     ]
    }
   ],
   "source": [
    "with open(\"filename.txt\") as f:\n",
    "\n",
    "   print(f.read())\n"
   ]
  },
  {
   "cell_type": "code",
   "execution_count": 32,
   "id": "1e1316ec",
   "metadata": {},
   "outputs": [
    {
     "name": "stdout",
     "output_type": "stream",
     "text": [
      "1\n",
      "3\n",
      "4\n"
     ]
    }
   ],
   "source": [
    "try:\n",
    "\n",
    "  print(1)\n",
    "\n",
    "  print(20 / 0)\n",
    "\n",
    "  print(2)\n",
    "\n",
    "except ZeroDivisionError:\n",
    "\n",
    "  print(3)\n",
    "\n",
    "finally:\n",
    "\n",
    "  print(4)"
   ]
  },
  {
   "cell_type": "code",
   "execution_count": 33,
   "id": "3075a2e2",
   "metadata": {},
   "outputs": [
    {
     "name": "stdout",
     "output_type": "stream",
     "text": [
      "1\n",
      "3\n"
     ]
    }
   ],
   "source": [
    "try:\n",
    "\n",
    "  print(1)\n",
    "\n",
    "  assert 2 + 2 == 5\n",
    "\n",
    "except AssertionError:\n",
    "\n",
    "  print(3)\n",
    "\n",
    "except:\n",
    "\n",
    "  print(4)\n"
   ]
  },
  {
   "cell_type": "code",
   "execution_count": null,
   "id": "9e15b761",
   "metadata": {},
   "outputs": [],
   "source": []
  },
  {
   "cell_type": "code",
   "execution_count": null,
   "id": "f304b1fa",
   "metadata": {},
   "outputs": [],
   "source": []
  },
  {
   "cell_type": "code",
   "execution_count": null,
   "id": "844a4c70",
   "metadata": {},
   "outputs": [],
   "source": []
  },
  {
   "cell_type": "code",
   "execution_count": null,
   "id": "48158068",
   "metadata": {},
   "outputs": [],
   "source": []
  }
 ],
 "metadata": {
  "kernelspec": {
   "display_name": "Python 3 (ipykernel)",
   "language": "python",
   "name": "python3"
  },
  "language_info": {
   "codemirror_mode": {
    "name": "ipython",
    "version": 3
   },
   "file_extension": ".py",
   "mimetype": "text/x-python",
   "name": "python",
   "nbconvert_exporter": "python",
   "pygments_lexer": "ipython3",
   "version": "3.9.7"
  }
 },
 "nbformat": 4,
 "nbformat_minor": 5
}
