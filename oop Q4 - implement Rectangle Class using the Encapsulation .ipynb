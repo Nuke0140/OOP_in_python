{
 "cells": [
  {
   "cell_type": "markdown",
   "id": "38926753",
   "metadata": {},
   "source": [
    "### problem statment\n",
    "---\n",
    "- implement the class by completing the task below \n",
    "\n",
    "---\n",
    "- Task 1#\n",
    "- Implement a constructor to initialize the values of two private properties: length and width.\n",
    "\n",
    "- Task 2#\n",
    "- Implement a method, area(), in the Rectangle class that returns the product of length and width. See the formula below:\n",
    "\n",
    "- Area=length×width\n",
    "\n",
    "--- \n",
    "- Implement a method, perimeter(), in the Rectangle class that returns two times the sum of length and width. See the formula below:\n",
    "\n",
    "\n",
    "- Perimeter=2×(length+width)\n",
    "\n"
   ]
  },
  {
   "cell_type": "code",
   "execution_count": null,
   "id": "efff3e3f",
   "metadata": {},
   "outputs": [],
   "source": []
  },
  {
   "cell_type": "code",
   "execution_count": null,
   "id": "8dc41dac",
   "metadata": {},
   "outputs": [],
   "source": []
  },
  {
   "cell_type": "code",
   "execution_count": null,
   "id": "bfd8070a",
   "metadata": {},
   "outputs": [],
   "source": []
  }
 ],
 "metadata": {
  "kernelspec": {
   "display_name": "Python 3 (ipykernel)",
   "language": "python",
   "name": "python3"
  },
  "language_info": {
   "codemirror_mode": {
    "name": "ipython",
    "version": 3
   },
   "file_extension": ".py",
   "mimetype": "text/x-python",
   "name": "python",
   "nbconvert_exporter": "python",
   "pygments_lexer": "ipython3",
   "version": "3.9.7"
  }
 },
 "nbformat": 4,
 "nbformat_minor": 5
}
