{
 "cells": [
  {
   "cell_type": "markdown",
   "id": "222e808d",
   "metadata": {},
   "source": [
    "### problem statement \n",
    "----\n",
    "- implement a calss point that has three properties and method all these attributes(properties and method ) should be public this problem can be broken down into two tasks \n",
    "\n",
    "##### task1 \n",
    "- implement a constructor to initialize the values of three properties x,y,and z \n",
    "#### task 2 \n",
    "- implement mathod sqSum()sum  in the point class which sqaures x, y, z and returns their "
   ]
  },
  {
   "cell_type": "code",
   "execution_count": 7,
   "id": "92943b21",
   "metadata": {},
   "outputs": [
    {
     "name": "stdout",
     "output_type": "stream",
     "text": [
      "77\n"
     ]
    }
   ],
   "source": [
    "class Point:\n",
    "    def __init__(self, x, y, z):\n",
    "        self.x = x\n",
    "        self.y = y\n",
    "        self.z = z\n",
    "\n",
    "    def sqSum(self):\n",
    "        a = self.x * self.x\n",
    "        b = self.y * self.y\n",
    "        c = self.z * self.z\n",
    "        return(a + b + c)\n",
    "\n",
    "\n",
    "obj1 = Point(4, 5, 6)\n",
    "print(obj1.sqSum())\n"
   ]
  },
  {
   "cell_type": "markdown",
   "id": "6db34671",
   "metadata": {},
   "source": [
    "- Explanation#\n",
    "- Let’s look at the solution for each task one by one.\n",
    "\n",
    "- Task 1#\n",
    "- We passed parameters and assigned them to their corresponding properties.\n",
    "- Task 2#\n",
    "- We calculated the squares of the properties by multiplying them with itself and stored them in a variable.\n",
    "- Then, we added all the squared numbers.\n",
    "- Finally, we returned their sum.\n"
   ]
  },
  {
   "cell_type": "code",
   "execution_count": null,
   "id": "a7ac67f0",
   "metadata": {},
   "outputs": [],
   "source": []
  },
  {
   "cell_type": "code",
   "execution_count": null,
   "id": "9466861a",
   "metadata": {},
   "outputs": [],
   "source": []
  },
  {
   "cell_type": "code",
   "execution_count": null,
   "id": "ec5ac5ab",
   "metadata": {},
   "outputs": [],
   "source": []
  },
  {
   "cell_type": "code",
   "execution_count": null,
   "id": "392a0ec4",
   "metadata": {},
   "outputs": [],
   "source": []
  }
 ],
 "metadata": {
  "kernelspec": {
   "display_name": "Python 3 (ipykernel)",
   "language": "python",
   "name": "python3"
  },
  "language_info": {
   "codemirror_mode": {
    "name": "ipython",
    "version": 3
   },
   "file_extension": ".py",
   "mimetype": "text/x-python",
   "name": "python",
   "nbconvert_exporter": "python",
   "pygments_lexer": "ipython3",
   "version": "3.9.7"
  }
 },
 "nbformat": 4,
 "nbformat_minor": 5
}
