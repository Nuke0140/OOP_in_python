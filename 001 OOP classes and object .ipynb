{
 "cells": [
  {
   "cell_type": "markdown",
   "id": "c1883c09",
   "metadata": {},
   "source": [
    "# A Brief Introduction \n",
    "---\n",
    "### Procefural programming \n",
    "---\n",
    "- procedural programming in one programming pradigm among many others \n",
    "- in ptocedural programming a proram is divided into smaller parts called methods \n",
    "- thses methods are the basic entities used to construct program . one of main advantage of proceduaral programming is code reusability \n",
    "- however the implementation of complex rea-world scenrio becomes a difficult and unwieldy task \n",
    "x"
   ]
  },
  {
   "cell_type": "markdown",
   "id": "add708f3",
   "metadata": {},
   "source": [
    "## Obaject-oriented programming \n",
    "---\n",
    "- obejct - oerineted proramming also referred to as  oop is progarmming paradigm that include or relied on the concept of classes ad objects \n",
    "\n",
    "- the basic entites in object-oriented programming are classes and objects \n",
    "- the basic idea of oop is to divide a sophisticate program into a number of objects  that talk to each other \n",
    "---\n",
    "#### anatomy of objets and classes \n",
    "- obejcts may contain in the form of fields(variales) and methods to operateon that data \n",
    "\n",
    "- think about real-worl  objcts around you what are the characteristics of these obeject ?? take the example of light bulb \n",
    "\n",
    "- obejcts are a colleaction of data and their behaviors \n",
    "---\n",
    "- A class can be thought of as blueprint for creatting objects \n",
    "---\n",
    "- from the above illustration  you can see that the stase of the obeject is generally modeled using variables in a class and the beahavior is modeled usign methods  \n",
    "- there can be many differemt obejcts of the same class . each can be in an independed state but all of them will dhare the same behavior and characteristic \n",
    "\n",
    "### User-defined data types \n",
    "\n",
    "---\n",
    "-  primitive data types \n",
    "- boolean , int , char \n",
    "----\n",
    "- user-defined data types  can encapsulate the state and its beahaviors into a unit \n",
    "\n"
   ]
  },
  {
   "cell_type": "code",
   "execution_count": 1,
   "id": "c900def8",
   "metadata": {},
   "outputs": [
    {
     "name": "stdout",
     "output_type": "stream",
     "text": [
      "6\n"
     ]
    }
   ],
   "source": [
    "def add(p1, p2):\n",
    "    sum = p1 + p2\n",
    "    return sum\n",
    "\n",
    "\n",
    "print(add(2, 4))"
   ]
  },
  {
   "cell_type": "markdown",
   "id": "59ff3f02",
   "metadata": {},
   "source": [
    "- we simply write the add function without making any class or importing any libraries and call in our main function just like in procedural language \n"
   ]
  },
  {
   "cell_type": "markdown",
   "id": "9b534cd8",
   "metadata": {},
   "source": [
    "## A brief encounter \n",
    "---\n",
    "- we  see objects everywhere in our surrondings . these objects have certain prperties that define them there are certain behaviors that these objects perform on their own and there are actions that can be peroformed on them \n",
    "\n",
    "- lets take the example of company employee an employee has the following properties or atributes \n",
    "- ID\n",
    "- SALARY \n",
    "- Departement \n",
    "- the following action or behaviors can be performed on an employee\n",
    "----\n",
    "- calculation of tax on salary \n",
    "- calculation of salary per day \n",
    "-----\n",
    "  \n",
    " - n comapany each worker has different name , salary and departement but the type of each worker is employee , so ther is generic blueprits for each worker working in the company but each of them has different attributes \n",
    " --- \n",
    " - A class has a siular blueprits and objects are part of a class and differentiated by their distinct properties \n",
    " ### Objects and Classes \n",
    " ---\n",
    " - suppose there are toe employees at Educative \n",
    " \n",
    " ## Declaration \n",
    " ---\n",
    " - in python classes are defined as follows:\n",
    " "
   ]
  },
  {
   "cell_type": "code",
   "execution_count": 2,
   "id": "596db5f8",
   "metadata": {},
   "outputs": [],
   "source": [
    "class classame:\n",
    "    pass"
   ]
  },
  {
   "cell_type": "markdown",
   "id": "25b78bbc",
   "metadata": {},
   "source": [
    "- the class keyword tells the compiler that we are creating a custom class , which is followed by the class name adn the : sign \n",
    "- All the  properties and methods of the class will be defined within the class scope \n",
    "\n",
    "----\n",
    "### Naming rules \n",
    "---\n",
    "- must start with letter or underscore \n",
    "- should only be comprised of numbers, letters or underscores \n"
   ]
  },
  {
   "cell_type": "code",
   "execution_count": 5,
   "id": "0166aaa8",
   "metadata": {},
   "outputs": [],
   "source": [
    "class classame:\n",
    "    pass\n"
   ]
  },
  {
   "cell_type": "code",
   "execution_count": 4,
   "id": "a59395dc",
   "metadata": {},
   "outputs": [],
   "source": [
    "#implementation of the Employee class \n",
    "\n",
    "class Employee:\n",
    "    #defining theproperties and assigneing them none \n",
    "    ID = None \n",
    "    salary= None \n",
    "    department= None \n",
    "    "
   ]
  },
  {
   "cell_type": "markdown",
   "id": "170bedfd",
   "metadata": {},
   "source": [
    "- you do ot initialize the values of properties the python code will not compile . initializing the values of properties inside the class is necessary \n",
    "\n",
    "### Accesssing properties and assigning values \n",
    "\n",
    "- to access properties of an object the dot notation is used :\n",
    "- object.property \n",
    "----\n",
    "- - there are two ways to assign values to properties of a class \n",
    "- 1. Assign values when defining the class \n",
    "- 2. Assign values in the main code \n",
    "\n",
    "\n"
   ]
  },
  {
   "cell_type": "code",
   "execution_count": 6,
   "id": "d087aba6",
   "metadata": {},
   "outputs": [
    {
     "name": "stdout",
     "output_type": "stream",
     "text": [
      "ID 3789\n",
      "Salary 2500\n",
      "Departement human Resources\n"
     ]
    }
   ],
   "source": [
    "class Employee:\n",
    "    #defining the properties and assigning values to them \n",
    "    ID = 3789 \n",
    "    salary= 2500 \n",
    "    department= \"human Resources\"\n",
    "\n",
    "#certaing an object of the Employeee class\n",
    "Steve = Employee()\n",
    "\n",
    "#printing properties of Steve - an object of the Employee class \n",
    "print(\"ID\", Steve.ID)\n",
    "print(\"Salary\",Steve.salary)\n",
    "print(\"Departement\", Steve.department)"
   ]
  },
  {
   "cell_type": "code",
   "execution_count": 9,
   "id": "357ddc6c",
   "metadata": {},
   "outputs": [
    {
     "name": "stdout",
     "output_type": "stream",
     "text": [
      "ID:  3789\n",
      "salary:  2500\n",
      "department:  Human Resources\n",
      "Title:  manager\n"
     ]
    }
   ],
   "source": [
    "# Creating properties outside a class \n",
    "class Employee:\n",
    "    ID= None \n",
    "    salary=None \n",
    "    department= None \n",
    "\n",
    "Steve=Employee()\n",
    "\n",
    "# Assigning values to properties of steve - an object of the employee class \n",
    "Steve.ID = 3789\n",
    "Steve.salary = 2500\n",
    "Steve.Department=\"Human Resources\"\n",
    "# Creating a new attributes for steve \n",
    "Steve.title=\"manager\"\n",
    "\n",
    "# printiting properties of steve \n",
    "\n",
    "print(\"ID: \", Steve.ID)\n",
    "print(\"salary: \",Steve.salary)\n",
    "print(\"department: \" ,Steve.Department)\n",
    "print(\"Title: \", Steve.title)"
   ]
  },
  {
   "cell_type": "markdown",
   "id": "3b7b1384",
   "metadata": {},
   "source": [
    "### initializing object \n",
    "\n",
    "---\n",
    "###### what is an intitializer \n",
    "\n",
    "- as the name sugests the initializer is used to initialize an object of a class \n",
    "- its special method that outline the steps that are performed when an object of class is created inthe program . it used to define adn assign values to instance variables\n",
    "\n",
    "---\n",
    "- __init__ : the double undercore mean this is special method that the python interpreter will treat as special case \n",
    "\n",
    "---\n",
    "- the initializer is special method because it does not have return type , \n",
    "\n"
   ]
  },
  {
   "cell_type": "code",
   "execution_count": 10,
   "id": "5943adbb",
   "metadata": {},
   "outputs": [
    {
     "name": "stdout",
     "output_type": "stream",
     "text": [
      "ID:  3789\n",
      "salary:  2500\n",
      "Department:  Human Resources\n"
     ]
    }
   ],
   "source": [
    "class Employee:\n",
    "    def __init__(self,ID,salary,department):\n",
    "        self.ID=ID\n",
    "        self.salary=salary\n",
    "        self.department=department\n",
    "    \n",
    "# creating an object of the employee class with default parameter \n",
    "Steve = Employee(3789,2500,\"Human Resources\")\n",
    "\n",
    "#printing properties of Steve \n",
    "\n",
    "print(\"ID: \",Steve.ID)\n",
    "print(\"salary: \",Steve.salary)\n",
    "print(\"Department: \",Steve.department)"
   ]
  },
  {
   "cell_type": "markdown",
   "id": "b059d003",
   "metadata": {},
   "source": [
    "- the initializer is automatically called when an obejct of the class is created Now that we will be using initializers to make objects \n",
    "- It is important to define the initializer with complete parameters to avoid any errors. Similar to methods, initializers also have the provision for optional parameters.\n"
   ]
  },
  {
   "cell_type": "code",
   "execution_count": 12,
   "id": "159e1256",
   "metadata": {},
   "outputs": [
    {
     "name": "stdout",
     "output_type": "stream",
     "text": [
      "Steve\n",
      "ID : None\n",
      "Salary : 0\n",
      "Department : None\n",
      "Mark\n",
      "ID : 3789\n",
      "Salary : 2500\n",
      "Department : human Resources\n"
     ]
    }
   ],
   "source": [
    "# initializer with optional parameters \n",
    "class Employee:\n",
    "    # defining the properties and assigning None to them\n",
    "    def __init__(self, ID=None, salary=0, department=None):\n",
    "        self.ID = ID\n",
    "        self.salary = salary\n",
    "        self.department = department\n",
    "# creating an object of the employee class with defaut parameter \n",
    "\n",
    "Steve=Employee()\n",
    "Mark= Employee(\"3789\",2500,\"human Resources\")\n",
    "\n",
    "# Printing properties of Steve and Mark\n",
    "print(\"Steve\")\n",
    "print(\"ID :\", Steve.ID)\n",
    "print(\"Salary :\", Steve.salary)\n",
    "print(\"Department :\", Steve.department)\n",
    "print(\"Mark\")\n",
    "print(\"ID :\", Mark.ID)\n",
    "print(\"Salary :\", Mark.salary)\n",
    "print(\"Department :\", Mark.department)"
   ]
  },
  {
   "cell_type": "markdown",
   "id": "e3196e07",
   "metadata": {},
   "source": [
    "## class and instance Variables \n",
    "---\n",
    "- in python properties can be defiened into two part\n",
    "- ___class vaiables__\n",
    "- _the class variables are shared by all instaces or objects of the classes a change in the class variable will change the value of that property in all the objects of the class_ \n",
    "\n",
    "- __instace variables__ \n",
    "- _the instacne variables are unique toeach instance or obejcy of the class A change inthe instace variable will cahage the value of the property inthat specific object only_ \n"
   ]
  },
  {
   "cell_type": "code",
   "execution_count": 13,
   "id": "4cd91c36",
   "metadata": {},
   "outputs": [
    {
     "name": "stdout",
     "output_type": "stream",
     "text": [
      "Name :  mark\n",
      "Team Name:  liverpool\n",
      "Name: Steve\n",
      "Team Name:  liverpool\n"
     ]
    }
   ],
   "source": [
    "class player:\n",
    "    teamName=\"liverpool\" # class variables \n",
    "    \n",
    "    def __init__(self,name):\n",
    "        self.name=name #creating instance variables \n",
    "    \n",
    "p1 = player('mark')\n",
    "p2 = player('Steve')\n",
    "\n",
    "print(\"Name : \", p1.name)\n",
    "print(\"Team Name: \", p1.teamName)\n",
    "print(\"Name:\",p2.name)\n",
    "print(\"Team Name: \",p2.teamName)"
   ]
  },
  {
   "cell_type": "code",
   "execution_count": 14,
   "id": "dbdeae4a",
   "metadata": {},
   "outputs": [
    {
     "name": "stdout",
     "output_type": "stream",
     "text": [
      "Name: Mark\n",
      "Team Name: Liverpool\n",
      "['Barcelona', 'Chelsea']\n",
      "Name: Steve\n",
      "Team Name: Liverpool\n",
      "['Barcelona', 'Chelsea']\n"
     ]
    }
   ],
   "source": [
    "class Player:\n",
    "    formerTeams = []  # class variables\n",
    "    teamName = 'Liverpool'\n",
    "    def __init__(self, name):\n",
    "        self.name = name  # creating instance variables\n",
    "\n",
    "\n",
    "p1 = Player('Mark')\n",
    "p2 = Player('Steve')\n",
    "\n",
    "p1 = Player('Mark')\n",
    "p1.formerTeams.append('Barcelona') # wrong use of class variable\n",
    "p2 = Player('Steve')\n",
    "p2.formerTeams.append('Chelsea') # wrong use of class variable\n",
    "\n",
    "print(\"Name:\", p1.name)\n",
    "print(\"Team Name:\", p1.teamName)\n",
    "print(p1.formerTeams)\n",
    "print(\"Name:\", p2.name)\n",
    "print(\"Team Name:\", p2.teamName)\n",
    "print(p2.formerTeams)"
   ]
  },
  {
   "cell_type": "code",
   "execution_count": 15,
   "id": "51bbf5cb",
   "metadata": {},
   "outputs": [
    {
     "name": "stdout",
     "output_type": "stream",
     "text": [
      "Name: Mark\n",
      "Team Name: Liverpool\n",
      "['Barcelona']\n",
      "Name: Steve\n",
      "Team Name: Liverpool\n",
      "['Chelsea']\n"
     ]
    }
   ],
   "source": [
    "class Player:\n",
    "    teamName = 'Liverpool'  # class variables\n",
    "\n",
    "    def __init__(self, name):\n",
    "        self.name = name  # creating instance variables\n",
    "        self.formerTeams = []\n",
    "\n",
    "\n",
    "p1 = Player('Mark')\n",
    "p1.formerTeams.append('Barcelona')\n",
    "p2 = Player('Steve')\n",
    "p2.formerTeams.append('Chelsea')\n",
    "\n",
    "print(\"Name:\", p1.name)\n",
    "print(\"Team Name:\", p1.teamName)\n",
    "print(p1.formerTeams)\n",
    "print(\"Name:\", p2.name)\n",
    "print(\"Team Name:\", p2.teamName)\n",
    "print(p2.formerTeams)"
   ]
  },
  {
   "cell_type": "code",
   "execution_count": 17,
   "id": "cf05f9e8",
   "metadata": {},
   "outputs": [
    {
     "name": "stdout",
     "output_type": "stream",
     "text": [
      "Name: mark\n",
      "Team members: \n",
      "['mark', 'steve']\n",
      " \n",
      "Name:  steve\n",
      "team Members\n",
      "['mark', 'steve']\n"
     ]
    }
   ],
   "source": [
    "#using class variables smartly \n",
    "class player:\n",
    "    teamname='Liverpool'    #class variables \n",
    "    teamMembers=[]\n",
    "    \n",
    "    def __init__(self,name):\n",
    "        self.name=name  # creating instance variable \n",
    "        self.formerTeams=[]\n",
    "        self.teamMembers.append(self.name)\n",
    "        \n",
    "p1=player('mark')\n",
    "p2=player('steve')\n",
    "\n",
    "print(\"Name:\",p1.name)\n",
    "print(\"Team members: \")\n",
    "print(p1.teamMembers)\n",
    "print(\" \")\n",
    "print(\"Name: \",p2.name)\n",
    "print(\"team Members\")\n",
    "print(p2.teamMembers)\n",
    "\n"
   ]
  },
  {
   "cell_type": "markdown",
   "id": "bb82db13",
   "metadata": {},
   "source": [
    "## implementing Method in class \n",
    "---\n",
    "- ther are three types of method in python \n",
    "- __instance methods__\n",
    "- __Class method__\n",
    "- __static methods__\n",
    "\n",
    "---\n",
    "- We will be using the term methods for instance methods in our course since they are most commonly used. Class methods and static methods will be named explicitly as they are.\n",
    "----\n",
    "#### the purpose of methods \n",
    "- methods act ad an interface between a program and the properties of class in the program \n",
    "- these methods can either slter the content of the properties or use their values to perfrom a particular computation \n",
    "\n",
    "### the self argument \n",
    "\n",
    "- One of the major differences between functions and methods in Python is the first argument in the method definition. Conventionally, this is named self. The user can use different names as well, but self is used by almost all the developers working in Python. We will also be using this convention for ease of understanding.\n",
    "\n",
    "- This pseudo-variable provides a reference to the calling object, that is the object to which the method or property belongs to. If the user does not mention the self as the first argument, the first parameter will be treated for reference to the object."
   ]
  },
  {
   "cell_type": "code",
   "execution_count": 28,
   "id": "c4b7efdb",
   "metadata": {},
   "outputs": [
    {
     "name": "stdout",
     "output_type": "stream",
     "text": [
      "ID=  3789\n",
      "salary =  2500\n",
      "departement=  human Resources \n",
      "tax paid by steve 500.0\n",
      "Salary per day of Steve <bound method Employee.salaryPerDay of <__main__.Employee object at 0x7fe30c11de50>>\n"
     ]
    }
   ],
   "source": [
    "class Employee:\n",
    "    #defining the initializer \n",
    "    def __init__(self,ID=None,salary = None,department=None):\n",
    "        self.ID=ID\n",
    "        self.salary=salary\n",
    "        self.department=department\n",
    "    \n",
    "    def tax (self):\n",
    "        return(self.salary *0.2)\n",
    "    \n",
    "    def salaryPerDay(self):\n",
    "        return (self.salary / 30)\n",
    "\n",
    "#initializing an object of the employee class \n",
    "steve = Employee(3789,2500,\"human Resources \")\n",
    "\n",
    "#printing  properties of steve\n",
    "\n",
    "print(\"ID= \",steve.ID)\n",
    "print(\"salary = \",steve.salary)\n",
    "print(\"departement= \",steve.department)\n",
    "print(\"tax paid by steve\",steve.tax())\n",
    "print(\"Salary per day of Steve\",steve.salaryPerDay)"
   ]
  },
  {
   "cell_type": "markdown",
   "id": "647b99ea",
   "metadata": {},
   "source": [
    "## method overloading \n",
    "---\n",
    "- overloading referto making "
   ]
  },
  {
   "cell_type": "code",
   "execution_count": 4,
   "id": "56554f57",
   "metadata": {},
   "outputs": [
    {
     "name": "stdout",
     "output_type": "stream",
     "text": [
      "demo 1\n",
      "a=  1\n",
      "b=  2\n",
      "c=  3\n",
      "d=   5\n",
      "e=  None\n",
      "\n",
      "\n",
      "demo 2\n",
      "a=  1\n",
      "b=  2\n",
      "c=  3\n",
      "d=   4\n",
      "e=  None\n",
      "\n",
      "\n",
      "demo 3\n",
      "a=  1\n",
      "b=  2\n",
      "c=  3\n",
      "d=   4\n",
      "e=  5\n"
     ]
    }
   ],
   "source": [
    "class Employee:\n",
    "    #Defining the properties and assigning them NOne to the \n",
    "    def __init__(self,ID= None,salary=None,department=None):\n",
    "        self.ID=ID\n",
    "        self.salary=salary\n",
    "        self.department=department\n",
    "    \n",
    "    #method overloading \n",
    "    def demo(self,a,b,c,d=5,e=None):\n",
    "        print(\"a= \",a)\n",
    "        print(\"b= \",b)\n",
    "        print(\"c= \",c)\n",
    "        print(\"d=  \",d)\n",
    "        print(\"e= \",e)\n",
    "    def tax (self,title=None):\n",
    "        return(self.salary*0.2)\n",
    "    def salaryPerDay(self):\n",
    "        return(self.salary/30)\n",
    "\n",
    "#creating an object of the Employee class \n",
    "Steve = Employee()\n",
    "\n",
    "# printing properties of  steve \n",
    "print(\"demo 1\")\n",
    "Steve.demo(1,2,3,)\n",
    "print(\"\\n\")\n",
    "print(\"demo 2\")\n",
    "Steve.demo(1,2,3,4)\n",
    "print(\"\\n\")\n",
    "print(\"demo 3\")\n",
    "Steve.demo(1,2,3,4,5)"
   ]
  },
  {
   "cell_type": "markdown",
   "id": "fffbd053",
   "metadata": {},
   "source": [
    "----\n",
    "- in the above  we see the same method behaving defferently when encountering different type of inputs \n",
    "- if we redefine a methof serveral times and give it defferent arguments pythons used the latest method definition for its implemetation \n",
    "###### Advantage of method overloading \n",
    "- one might wonder that we could simply create new method to perform different job rather than overloading the  the same method howver under the hood overloading saves us memory in the system . creating new method is costlier compared to overloading single one   since they are memory \n",
    "- overloaded methods are compiled faster compared to diffrent methods especially if the list of methods is long \n",
    "- an obvious benifit is that the code becomes simple  and clean \n",
    "-----\n",
    "### class method and static methods \n",
    "---\n",
    "- in python classes we  have three types of  methos instance method class methods and static method in the previous lesson , we discussed instance method in this lessoon we , will be focusing on class methods and static methods \n",
    "\n",
    "###### class methods \n",
    "- class  methods are accedded using the class name and can be accessed without creating class object \n",
    "---"
   ]
  },
  {
   "cell_type": "code",
   "execution_count": 5,
   "id": "11200d42",
   "metadata": {},
   "outputs": [],
   "source": [
    "#syntax\n",
    "class myClass:\n",
    "    classVariable='educatiive'\n",
    "    \n",
    "    @classmethod \n",
    "    def demo(cls):\n",
    "        return cls.classVariable "
   ]
  },
  {
   "cell_type": "code",
   "execution_count": 6,
   "id": "8c7578f4",
   "metadata": {},
   "outputs": [
    {
     "name": "stdout",
     "output_type": "stream",
     "text": [
      "Liverpool\n"
     ]
    }
   ],
   "source": [
    "class player:\n",
    "    teamName='Liverpool' #class Variables \n",
    "    \n",
    "    def __init__(self,name):\n",
    "        self.name=name #creating instance variables \n",
    "        \n",
    "    @classmethod\n",
    "    def getTeamName(cls):\n",
    "        return cls.teamName\n",
    "\n",
    "print(player.getTeamName())"
   ]
  },
  {
   "cell_type": "markdown",
   "id": "c2156887",
   "metadata": {},
   "source": [
    "### Static method\n",
    "----\n",
    "- __Static methods__ are method that are usually limited to class only and not their object. they  ahve no direct relation to class variables or instace varibles "
   ]
  },
  {
   "cell_type": "code",
   "execution_count": 8,
   "id": "3174300c",
   "metadata": {},
   "outputs": [],
   "source": [
    "# syntax\n",
    "class MyClass:\n",
    "\n",
    "    @staticmethod\n",
    "    def demo():\n",
    "        print(\"I am a static method\")\n"
   ]
  },
  {
   "cell_type": "code",
   "execution_count": 9,
   "id": "d285100b",
   "metadata": {},
   "outputs": [
    {
     "name": "stdout",
     "output_type": "stream",
     "text": [
      "I am a static method\n"
     ]
    },
    {
     "ename": "AttributeError",
     "evalue": "type object 'player' has no attribute 'demo'",
     "output_type": "error",
     "traceback": [
      "\u001b[0;31m---------------------------------------------------------------------------\u001b[0m",
      "\u001b[0;31mAttributeError\u001b[0m                            Traceback (most recent call last)",
      "\u001b[0;32m/tmp/ipykernel_32825/2115926259.py\u001b[0m in \u001b[0;36m<module>\u001b[0;34m\u001b[0m\n\u001b[1;32m     10\u001b[0m \u001b[0mp1\u001b[0m \u001b[0;34m=\u001b[0m \u001b[0mPlayer\u001b[0m\u001b[0;34m(\u001b[0m\u001b[0;34m'lol'\u001b[0m\u001b[0;34m)\u001b[0m\u001b[0;34m\u001b[0m\u001b[0;34m\u001b[0m\u001b[0m\n\u001b[1;32m     11\u001b[0m \u001b[0mp1\u001b[0m\u001b[0;34m.\u001b[0m\u001b[0mdemo\u001b[0m\u001b[0;34m(\u001b[0m\u001b[0;34m)\u001b[0m\u001b[0;34m\u001b[0m\u001b[0;34m\u001b[0m\u001b[0m\n\u001b[0;32m---> 12\u001b[0;31m \u001b[0mplayer\u001b[0m\u001b[0;34m.\u001b[0m\u001b[0mdemo\u001b[0m\u001b[0;34m(\u001b[0m\u001b[0;34m)\u001b[0m\u001b[0;34m\u001b[0m\u001b[0;34m\u001b[0m\u001b[0m\n\u001b[0m",
      "\u001b[0;31mAttributeError\u001b[0m: type object 'player' has no attribute 'demo'"
     ]
    }
   ],
   "source": [
    "class Player:\n",
    "    teamName='Liverpool'#class variables\n",
    "    \n",
    "    def __init__(self,name):\n",
    "        self.name=name #creating instance variable \n",
    "    @staticmethod\n",
    "    def demo():\n",
    "        print(\"I am a static method\")\n",
    "\n",
    "p1 = Player('lol')\n",
    "p1.demo()\n",
    "player.demo()"
   ]
  },
  {
   "cell_type": "markdown",
   "id": "ff43935b",
   "metadata": {},
   "source": [
    "- static method do not know anthing about the state of the class they cannot modify class attributes. the purpose of the static method is to use its parameters and produce a useful result \n"
   ]
  },
  {
   "cell_type": "code",
   "execution_count": 11,
   "id": "1ccac284",
   "metadata": {},
   "outputs": [
    {
     "name": "stdout",
     "output_type": "stream",
     "text": [
      "23.148148148148145\n"
     ]
    }
   ],
   "source": [
    "class bodyInfo:\n",
    "    @staticmethod \n",
    "    def bmi(weight,height):\n",
    "        return weight/(height**2)\n",
    "\n",
    "weight=75\n",
    "height=1.8\n",
    "print(bodyInfo.bmi(weight,height))"
   ]
  },
  {
   "cell_type": "markdown",
   "id": "4be51284",
   "metadata": {},
   "source": [
    "### Access Modifiers \n",
    "---\n",
    "- leran about the private, pubic and protected and data members in python \n",
    "- in python we can impose access restrition on different data members and menber function the restriction  are specified thorugh access modifiers . Access modifiers are tags we can associate with each members to define which of the program can access it directly \n",
    "----\n",
    "#### public attributes \n",
    "---\n",
    "- public  attributes  are those that can be  Accessed inside  the class and outside  the class \n"
   ]
  },
  {
   "cell_type": "code",
   "execution_count": 14,
   "id": "35efd6f7",
   "metadata": {},
   "outputs": [
    {
     "name": "stdout",
     "output_type": "stream",
     "text": [
      "ID:  3789\n",
      "2500\n"
     ]
    }
   ],
   "source": [
    "class Employee:\n",
    "    def __init__(self,ID,salary):\n",
    "        # all properties are public \n",
    "        self.ID=ID\n",
    "        self.salary=salary\n",
    "        \n",
    "    def displayID(self):\n",
    "        print(\"ID: \", self.ID)\n",
    "        \n",
    "Steve = Employee(3789,2500)\n",
    "Steve.displayID()\n",
    "print(Steve.salary)\n",
    "    "
   ]
  },
  {
   "cell_type": "markdown",
   "id": "fd106042",
   "metadata": {},
   "source": [
    "----\n",
    "- in the code above, the properties ID and salary and the method displayID() are public as they can be accessed in the class as well as outside the class \n",
    "\n",
    "-----\n",
    "-\n",
    "##### Private attributes \n",
    "--- \n",
    "- private attributes cannot be accessed directly from outside the class but can be accessed from inside the class \n",
    "- the aim is to keep it hidden from the users and other classes and  other classes. unlike in many differnt language \n",
    "- we can make members private using the double underscore __ prefix \n"
   ]
  },
  {
   "cell_type": "code",
   "execution_count": 16,
   "id": "1971a7ec",
   "metadata": {},
   "outputs": [
    {
     "name": "stdout",
     "output_type": "stream",
     "text": [
      "ID:  3789\n"
     ]
    },
    {
     "ename": "AttributeError",
     "evalue": "'Employee' object has no attribute '__salary'",
     "output_type": "error",
     "traceback": [
      "\u001b[0;31m---------------------------------------------------------------------------\u001b[0m",
      "\u001b[0;31mAttributeError\u001b[0m                            Traceback (most recent call last)",
      "\u001b[0;32m/tmp/ipykernel_32825/687610658.py\u001b[0m in \u001b[0;36m<module>\u001b[0;34m\u001b[0m\n\u001b[1;32m      7\u001b[0m \u001b[0mSteve\u001b[0m\u001b[0;34m=\u001b[0m\u001b[0mEmployee\u001b[0m\u001b[0;34m(\u001b[0m\u001b[0;36m3789\u001b[0m\u001b[0;34m,\u001b[0m\u001b[0;36m2500\u001b[0m\u001b[0;34m)\u001b[0m\u001b[0;34m\u001b[0m\u001b[0;34m\u001b[0m\u001b[0m\n\u001b[1;32m      8\u001b[0m \u001b[0mprint\u001b[0m\u001b[0;34m(\u001b[0m\u001b[0;34m\"ID: \"\u001b[0m\u001b[0;34m,\u001b[0m\u001b[0mSteve\u001b[0m\u001b[0;34m.\u001b[0m\u001b[0mID\u001b[0m\u001b[0;34m)\u001b[0m\u001b[0;34m\u001b[0m\u001b[0;34m\u001b[0m\u001b[0m\n\u001b[0;32m----> 9\u001b[0;31m \u001b[0mprint\u001b[0m\u001b[0;34m(\u001b[0m\u001b[0;34m\"Salary: \"\u001b[0m\u001b[0;34m,\u001b[0m \u001b[0mSteve\u001b[0m\u001b[0;34m.\u001b[0m\u001b[0m__salary\u001b[0m\u001b[0;34m)\u001b[0m\u001b[0;31m# this will cause an error\u001b[0m\u001b[0;34m\u001b[0m\u001b[0;34m\u001b[0m\u001b[0m\n\u001b[0m",
      "\u001b[0;31mAttributeError\u001b[0m: 'Employee' object has no attribute '__salary'"
     ]
    }
   ],
   "source": [
    "class Employee:\n",
    "    def __init__(self,ID,salary):\n",
    "        self.ID=ID\n",
    "        self.__salary= salary  # salary is a private propertity \n",
    "        \n",
    "\n",
    "Steve=Employee(3789,2500)\n",
    "print(\"ID: \",Steve.ID)\n",
    "print(\"Salary: \", Steve.__salary)# this will cause an error \n"
   ]
  },
  {
   "cell_type": "markdown",
   "id": "90c92b0f",
   "metadata": {},
   "source": [
    "-----\n",
    "###### code explaination \n",
    "- in the code above , ID is public property but __ salary is private property, so it cannot be accessed outside the class \n",
    "- when it is used tried to be accessed outside the class the following error is generated \n",
    "- to ensure that no one from the outside knows about this priate property,the error does not reveal its idenatity \n"
   ]
  },
  {
   "cell_type": "code",
   "execution_count": 17,
   "id": "c0f8db99",
   "metadata": {},
   "outputs": [
    {
     "name": "stdout",
     "output_type": "stream",
     "text": [
      "Salary: 2500\n"
     ]
    },
    {
     "ename": "AttributeError",
     "evalue": "'Employee' object has no attribute '__displayID'",
     "output_type": "error",
     "traceback": [
      "\u001b[0;31m---------------------------------------------------------------------------\u001b[0m",
      "\u001b[0;31mAttributeError\u001b[0m                            Traceback (most recent call last)",
      "\u001b[0;32m/tmp/ipykernel_32825/1296245555.py\u001b[0m in \u001b[0;36m<module>\u001b[0;34m\u001b[0m\n\u001b[1;32m     13\u001b[0m \u001b[0mSteve\u001b[0m \u001b[0;34m=\u001b[0m \u001b[0mEmployee\u001b[0m\u001b[0;34m(\u001b[0m\u001b[0;36m3789\u001b[0m\u001b[0;34m,\u001b[0m \u001b[0;36m2500\u001b[0m\u001b[0;34m)\u001b[0m\u001b[0;34m\u001b[0m\u001b[0;34m\u001b[0m\u001b[0m\n\u001b[1;32m     14\u001b[0m \u001b[0mSteve\u001b[0m\u001b[0;34m.\u001b[0m\u001b[0mdisplaySalary\u001b[0m\u001b[0;34m(\u001b[0m\u001b[0;34m)\u001b[0m\u001b[0;34m\u001b[0m\u001b[0;34m\u001b[0m\u001b[0m\n\u001b[0;32m---> 15\u001b[0;31m \u001b[0mSteve\u001b[0m\u001b[0;34m.\u001b[0m\u001b[0m__displayID\u001b[0m\u001b[0;34m(\u001b[0m\u001b[0;34m)\u001b[0m  \u001b[0;31m# this will generate an error\u001b[0m\u001b[0;34m\u001b[0m\u001b[0;34m\u001b[0m\u001b[0m\n\u001b[0m",
      "\u001b[0;31mAttributeError\u001b[0m: 'Employee' object has no attribute '__displayID'"
     ]
    }
   ],
   "source": [
    "class Employee:\n",
    "    def __init__(self, ID, salary):\n",
    "        self.ID = ID\n",
    "        self.__salary = salary  # salary is a private property\n",
    "\n",
    "    def displaySalary(self):  # displaySalary is a public method\n",
    "        print(\"Salary:\", self.__salary)\n",
    "\n",
    "    def __displayID(self):  # displayID is a private method\n",
    "        print(\"ID:\", self.ID)\n",
    "\n",
    "\n",
    "Steve = Employee(3789, 2500)\n",
    "Steve.displaySalary()\n",
    "Steve.__displayID()  # this will generate an error\n"
   ]
  },
  {
   "cell_type": "markdown",
   "id": "5d9cbadd",
   "metadata": {},
   "source": [
    "Code explanation#\n",
    "ID is a public property, so it can be accessed from outside and inside the class.\n",
    "\n",
    "__salary is a private property, so it cannot be accessed from outside the class but can be accessed from inside the class.\n",
    "\n",
    "The displaySalary() method is a public method, so it can be accessed from outside the class. This method can access the private property, __salary, as well.\n",
    "\n",
    "The __displayID() method is a private method, so it cannot be accessed from outside the class.\n",
    "\n",
    "When you try to access displayID() from outside the class, the following error is generated:\n",
    "\n",
    "'Employee' object has no attribute '__displayID()'\n",
    "\n",
    "To ensure that no one from the outside knows about this private property, the error does not reveal its identity."
   ]
  },
  {
   "cell_type": "code",
   "execution_count": 18,
   "id": "277970e1",
   "metadata": {},
   "outputs": [
    {
     "name": "stdout",
     "output_type": "stream",
     "text": [
      "2500\n"
     ]
    }
   ],
   "source": [
    "class Employee:\n",
    "    def __init__(self, ID, salary):\n",
    "        self.ID = ID\n",
    "        self.__salary = salary  # salary is a private property\n",
    "\n",
    "\n",
    "Steve = Employee(3789, 2500)\n",
    "print(Steve._Employee__salary)  # accessing a private property\n"
   ]
  },
  {
   "cell_type": "code",
   "execution_count": null,
   "id": "a69d1119",
   "metadata": {},
   "outputs": [],
   "source": []
  },
  {
   "cell_type": "code",
   "execution_count": null,
   "id": "913a0daf",
   "metadata": {},
   "outputs": [],
   "source": []
  }
 ],
 "metadata": {
  "kernelspec": {
   "display_name": "Python 3 (ipykernel)",
   "language": "python",
   "name": "python3"
  },
  "language_info": {
   "codemirror_mode": {
    "name": "ipython",
    "version": 3
   },
   "file_extension": ".py",
   "mimetype": "text/x-python",
   "name": "python",
   "nbconvert_exporter": "python",
   "pygments_lexer": "ipython3",
   "version": "3.9.7"
  }
 },
 "nbformat": 4,
 "nbformat_minor": 5
}
