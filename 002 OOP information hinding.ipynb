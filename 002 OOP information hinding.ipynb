{
 "cells": [
  {
   "cell_type": "markdown",
   "id": "12623267",
   "metadata": {},
   "source": [
    "### what is information hiding ?\n",
    "----\n",
    "- Information hiding refers to the concept of hiding the inner workings of a class and simply providing an interface through which the outside world can interact with the class without knowing what’s going on inside.\n",
    "\n",
    "\n",
    "----\n",
    "## compenents of data hiding \n",
    "---\n",
    "-  1. Encapsulation \n",
    "- 2. Abstraction \n",
    "\n",
    "----\n",
    "- __Encapsulation__\n",
    "-       Encapsulation in oop refer to binding anf the methods to manipulate that data together in single unit that is class \n",
    "\n",
    "---\n",
    "\n",
    "### Getter and setter \n",
    "\n",
    "- get and set \n",
    "----\n",
    "- ___getter__ method allows reading property value\n",
    "- ___setter__ method allows modifying property value\n",
    "-\n"
   ]
  },
  {
   "cell_type": "code",
   "execution_count": 7,
   "id": "8d907330",
   "metadata": {},
   "outputs": [
    {
     "name": "stdout",
     "output_type": "stream",
     "text": [
      "before setting:  Steve1\n",
      "after Setting:  Stve2\n"
     ]
    }
   ],
   "source": [
    "class User:\n",
    "    def __init__(self,username=None): #defining initializer \n",
    "        self.__username=username\n",
    "    \n",
    "    def setUsername(self,x):\n",
    "        self.__username=x\n",
    "    \n",
    "    def getUsername(self):\n",
    "        return(self.__username)\n",
    "\n",
    "\n",
    "Steve = User('Steve1')\n",
    "print(\"before setting: \",Steve.getUsername())\n",
    "Steve.setUsername(\"Stve2\")\n",
    "print(\"after Setting: \",Steve.getUsername())"
   ]
  },
  {
   "cell_type": "markdown",
   "id": "193d14f9",
   "metadata": {},
   "source": [
    "\n",
    "----\n",
    "- In the above class, User, we have defined a private property named __ username, which the main code cannot access. Also note that we have started the name of this private property with __.\n",
    "\n",
    "- For this property to interact with any external environment, we have to use the get and set functions. The get function, getUsername(), returns the value of __ username, and the setUsername(x) sets the value of __ username equal to the parameter x passed.\n",
    "----\n",
    "---\n",
    "### understanding encapsulation using Examples \n",
    "----\n",
    "- encapulation refer to the concept of binding  data and methods operating on that data in single unit which is allso called a class \n",
    "\n",
    "---\n",
    "- An elementary user class will be modeled as \n",
    "- having a property username \n",
    "- having a property password \n",
    "- a method named logina() to grant access \n",
    "\n",
    "\n",
    "#### bad example \n",
    "\n"
   ]
  },
  {
   "cell_type": "code",
   "execution_count": 19,
   "id": "d93c046c",
   "metadata": {},
   "outputs": [
    {
     "name": "stdout",
     "output_type": "stream",
     "text": [
      "Access Granted!\n",
      "Invalid Credentials!\n",
      "Access Granted!\n"
     ]
    }
   ],
   "source": [
    "class User:\n",
    "    def __init__(self, userName=None, password=None):\n",
    "        self.userName = userName\n",
    "        self.password = password\n",
    "\n",
    "    def login(self, userName, password):\n",
    "        if ((self.userName.lower() == userName.lower())\n",
    "                and (self.password == password)):\n",
    "            print(\"Access Granted!\")\n",
    "        else:\n",
    "            print(\"Invalid Credentials!\")\n",
    "\n",
    "\n",
    "Steve = User(\"Steve\", \"12345\")\n",
    "Steve.login(\"steve\", \"12345\")\n",
    "Steve.login(\"steve\", \"6789\")\n",
    "Steve.password = \"6789\"\n",
    "Steve.login(\"steve\", \"6789\")\n"
   ]
  },
  {
   "cell_type": "markdown",
   "id": "7ef437c3",
   "metadata": {},
   "source": [
    "- in the above coding example we can observe that anyone can access, change or print the password and UserName field direvtly from the main code this is dangerous in the case of this is dangerous \n",
    "\n",
    "### good example \n",
    "\n"
   ]
  },
  {
   "cell_type": "code",
   "execution_count": 25,
   "id": "dc98e582",
   "metadata": {},
   "outputs": [
    {
     "name": "stdout",
     "output_type": "stream",
     "text": [
      "Access Granted against username: steve and password: 12345\n",
      "Invalid Credentials!\n"
     ]
    },
    {
     "ename": "AttributeError",
     "evalue": "'User' object has no attribute '__password'",
     "output_type": "error",
     "traceback": [
      "\u001b[0;31m---------------------------------------------------------------------------\u001b[0m",
      "\u001b[0;31mAttributeError\u001b[0m                            Traceback (most recent call last)",
      "\u001b[0;32m/tmp/ipykernel_31781/3143174286.py\u001b[0m in \u001b[0;36m<module>\u001b[0;34m\u001b[0m\n\u001b[1;32m     22\u001b[0m \u001b[0;31m# does not grant access since the credentails are invalid\u001b[0m\u001b[0;34m\u001b[0m\u001b[0;34m\u001b[0m\u001b[0m\n\u001b[1;32m     23\u001b[0m \u001b[0mSteve\u001b[0m\u001b[0;34m.\u001b[0m\u001b[0mlogin\u001b[0m\u001b[0;34m(\u001b[0m\u001b[0;34m\"steve\"\u001b[0m\u001b[0;34m,\u001b[0m \u001b[0;34m\"6789\"\u001b[0m\u001b[0;34m)\u001b[0m\u001b[0;34m\u001b[0m\u001b[0;34m\u001b[0m\u001b[0m\n\u001b[0;32m---> 24\u001b[0;31m \u001b[0mSteve\u001b[0m\u001b[0;34m.\u001b[0m\u001b[0m__password\u001b[0m  \u001b[0;31m# compilation error will occur due to this line\u001b[0m\u001b[0;34m\u001b[0m\u001b[0;34m\u001b[0m\u001b[0m\n\u001b[0m",
      "\u001b[0;31mAttributeError\u001b[0m: 'User' object has no attribute '__password'"
     ]
    }
   ],
   "source": [
    "class User:\n",
    "    def __init__(self, userName=None, password=None):\n",
    "        self.__userName = userName\n",
    "        self.__password = password\n",
    "\n",
    "    def login(self, userName, password):\n",
    "        if ((self.__userName.lower() == userName.lower())\n",
    "                and (self.__password == password)):\n",
    "            print(\n",
    "                \"Access Granted against username:\",\n",
    "                self.__userName.lower(),\n",
    "                \"and password:\",\n",
    "                self.__password)\n",
    "        else:\n",
    "            print(\"Invalid Credentials!\")\n",
    "\n",
    "\n",
    "# created a new User object and stored the password and username\n",
    "Steve = User(\"Steve\", \"12345\")\n",
    "Steve.login(\"steve\", \"12345\")  # Grants access because credentials are valid\n",
    "\n",
    "# does not grant access since the credentails are invalid\n",
    "Steve.login(\"steve\", \"6789\")\n",
    "Steve.__password  # compilation error will occur due to this line\n"
   ]
  },
  {
   "cell_type": "markdown",
   "id": "29ab4baa",
   "metadata": {},
   "source": [
    "- In the above example, the fields __userName and __password are declared privately using the __ prefix.\n",
    "\n",
    "- We can observe that no one can access, change, or print the __password and __userName fields directly from the main code. This is a proper implementation of encapsulation.\n",
    "\n",
    "- Note: For encapsulating a class, all the properties should be private and any access to the properties should be through methods such as getters and setters."
   ]
  },
  {
   "cell_type": "code",
   "execution_count": null,
   "id": "674c7ee9",
   "metadata": {},
   "outputs": [],
   "source": []
  },
  {
   "cell_type": "code",
   "execution_count": null,
   "id": "4319b827",
   "metadata": {},
   "outputs": [],
   "source": []
  },
  {
   "cell_type": "code",
   "execution_count": null,
   "id": "7b489d40",
   "metadata": {},
   "outputs": [],
   "source": []
  }
 ],
 "metadata": {
  "kernelspec": {
   "display_name": "Python 3 (ipykernel)",
   "language": "python",
   "name": "python3"
  },
  "language_info": {
   "codemirror_mode": {
    "name": "ipython",
    "version": 3
   },
   "file_extension": ".py",
   "mimetype": "text/x-python",
   "name": "python",
   "nbconvert_exporter": "python",
   "pygments_lexer": "ipython3",
   "version": "3.9.7"
  }
 },
 "nbformat": 4,
 "nbformat_minor": 5
}
