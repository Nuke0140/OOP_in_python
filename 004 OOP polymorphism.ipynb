{
 "cells": [
  {
   "cell_type": "markdown",
   "id": "c95dd3f2",
   "metadata": {},
   "source": [
    "## what is Polymorphism \n",
    "---\n",
    "- the word polymorphism is a combination of two Greek words poly meaning many and morph meaning forms \n",
    "- in programming polymorphism refer to the same object  exhibiting different forms and behaviors \n",
    "- For example, take the Shape Class. The exact shape you choose can be anything. It can be a rectangle, a circle, a polygon, or a diamond. While, these are all shapes, their properties are different. This is called polymorphism.\n",
    "\n"
   ]
  },
  {
   "cell_type": "markdown",
   "id": "de9ab4c2",
   "metadata": {},
   "source": [
    "#### implementing polymorphism using methods \n",
    "----\n",
    "- "
   ]
  },
  {
   "cell_type": "code",
   "execution_count": 3,
   "id": "5ed9b5cb",
   "metadata": {},
   "outputs": [
    {
     "name": "stdout",
     "output_type": "stream",
     "text": [
      "sides of a rectangle are 4\n",
      "Area of rectangle is:  60\n",
      "sides of a circle are 0\n",
      "Area of circle is:  153.958\n"
     ]
    }
   ],
   "source": [
    "class Rectangle():\n",
    "    \n",
    "    #initializer\n",
    "    def __init__(self,width=0,height=0):\n",
    "        self.width=width\n",
    "        self.height = height\n",
    "        self.sides=4\n",
    "    #method to calculate Area \n",
    "    def getArea(self):\n",
    "        return (self.width * self.height)\n",
    "    \n",
    "class Circle():\n",
    "    #initializer\n",
    "    def __init__(self,radius=0):\n",
    "        self.radius=radius\n",
    "        self.sides=0\n",
    "    \n",
    "    #method to calculate Area \n",
    "    def getArea(self):\n",
    "        return(self.radius * self.radius * 3.142)\n",
    "    \n",
    "shapes=[Rectangle(6,10),Circle(7)]\n",
    "print(\"sides of a rectangle are\",str(shapes[0].sides))\n",
    "print(\"Area of rectangle is: \",str(shapes[0].getArea()))\n",
    "\n",
    "print(\"sides of a circle are\", str(shapes[1].sides))\n",
    "print(\"Area of circle is: \",str(shapes[1].getArea()))"
   ]
  },
  {
   "cell_type": "markdown",
   "id": "5afb6d6e",
   "metadata": {},
   "source": [
    "###### Explaination \n",
    "- we have  declared a list that has two objects in it \n",
    "- the first object is rectangle with 6 and height 10 and the  second object is a circle of radius 7 \n",
    "- on lines  10 and 21 both the classes have the method getArea() but the execution of this method is different for each class \n",
    "- method calls on lines 2 and 30 look indentica but different methods are called  thus we have achieved polymorphism \n",
    "\n",
    "### implementing polymorphism using inheritance \n"
   ]
  },
  {
   "cell_type": "code",
   "execution_count": null,
   "id": "ace8107c",
   "metadata": {},
   "outputs": [],
   "source": []
  },
  {
   "cell_type": "code",
   "execution_count": null,
   "id": "068f890d",
   "metadata": {},
   "outputs": [],
   "source": []
  },
  {
   "cell_type": "code",
   "execution_count": null,
   "id": "36fa5ff5",
   "metadata": {},
   "outputs": [],
   "source": []
  },
  {
   "cell_type": "code",
   "execution_count": null,
   "id": "2bf1e067",
   "metadata": {},
   "outputs": [],
   "source": []
  }
 ],
 "metadata": {
  "kernelspec": {
   "display_name": "Python 3 (ipykernel)",
   "language": "python",
   "name": "python3"
  },
  "language_info": {
   "codemirror_mode": {
    "name": "ipython",
    "version": 3
   },
   "file_extension": ".py",
   "mimetype": "text/x-python",
   "name": "python",
   "nbconvert_exporter": "python",
   "pygments_lexer": "ipython3",
   "version": "3.9.7"
  }
 },
 "nbformat": 4,
 "nbformat_minor": 5
}
